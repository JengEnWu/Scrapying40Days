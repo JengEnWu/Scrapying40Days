{
 "cells": [
  {
   "cell_type": "markdown",
   "metadata": {
    "colab_type": "text",
    "id": "uSf0mVenUdOf"
   },
   "source": [
    "# 利用 Python 存取 API\n",
    "\n",
    "\n",
    "* 了解 Server Client 的架構與溝通方法\n",
    "* 知道 HTTP Request & Response 的內容\n",
    "* 什麼是 API？如何用 Python 程式存取 API 資料\n"
   ]
  },
  {
   "cell_type": "markdown",
   "metadata": {
    "colab_type": "text",
    "id": "FwvxVPZuUdOh"
   },
   "source": [
    "## 作業目標\n",
    "\n",
    "* 比較一下範例檔案中的「r.text」與「json.loads(r.text)」讀出來的內容有什麼差異\n",
    "* 自行尋找一個合適的 API 接口做練習，並且查看其回傳內容\n",
    "    * https://cat-fact.herokuapp.com/facts (來源：https://alexwohlbruck.github.io/cat-facts/)\n",
    "    * http://odata.wra.gov.tw/v4/RealtimeWaterLevel (來源：https://data.gov.tw/dataset/25768)\n",
    "\n"
   ]
  },
  {
   "cell_type": "markdown",
   "metadata": {
    "colab_type": "text",
    "id": "r5GIjwYuUdOi"
   },
   "source": [
    "### 比較一下範例檔案中的「r.text」與「json.loads(r.text)」讀出來的內容有什麼差異"
   ]
  },
  {
   "cell_type": "code",
   "execution_count": 7,
   "metadata": {
    "colab": {},
    "colab_type": "code",
    "id": "sVxW3MTeUdOj",
    "outputId": "a83e3e3b-eb9d-4c6d-d5d2-3a2ef30cee87"
   },
   "outputs": [
    {
     "output_type": "execute_result",
     "data": {
      "text/plain": [
       "Knife/subscription\",\"commits_url\":\"https://api.github.com/repos/AndersBru/Spoon-Knife/commits{/sha}\",\"git_commits_url\":\"https://api.github.com/repos/AndersBru/Spoon-Knife/git/commits{/sha}\",\"comments_url\":\"https://api.github.com/repos/AndersBru/Spoon-Knife/comments{/number}\",\"issue_comment_url\":\"https://api.github.com/repos/AndersBru/Spoon-Knife/issues/comments{/number}\",\"contents_url\":\"https://api.github.com/repos/AndersBru/Spoon-Knife/contents/{+path}\",\"compare_url\":\"https://api.github.com/repos/AndersBru/Spoon-Knife/compare/{base}...{head}\",\"merges_url\":\"https://api.github.com/repos/AndersBru/Spoon-Knife/merges\",\"archive_url\":\"https://api.github.com/repos/AndersBru/Spoon-Knife/{archive_format}{/ref}\",\"downloads_url\":\"https://api.github.com/repos/AndersBru/Spoon-Knife/downloads\",\"issues_url\":\"https://api.github.com/repos/AndersBru/Spoon-Knife/issues{/number}\",\"pulls_url\":\"https://api.github.com/repos/AndersBru/Spoon-Knife/pulls{/number}\",\"milestones_url\":\"https://api.github.com/repos/AndersBru/Spoon-Knife/milestones{/number}\",\"notifications_url\":\"https://api.github.com/repos/AndersBru/Spoon-Knife/notifications{?since,all,participating}\",\"labels_url\":\"https://api.github.com/repos/AndersBru/Spoon-Knife/labels{/name}\",\"releases_url\":\"https://api.github.com/repos/AndersBru/Spoon-Knife/releases{/id}\",\"deployments_url\":\"https://api.github.com/repos/AndersBru/Spoon-Knife/deployments\",\"created_at\":\"2021-01-19T08:33:37Z\",\"updated_at\":\"2020-09-22T13:07:03Z\",\"pushed_at\":\"2020-12-18T18:16:02Z\",\"git_url\":\"git://github.com/AndersBru/Spoon-Knife.git\",\"ssh_url\":\"git@github.com:AndersBru/Spoon-Knife.git\",\"clone_url\":\"https://github.com/AndersBru/Spoon-Knife.git\",\"svn_url\":\"https://github.com/AndersBru/Spoon-Knife\",\"homepage\":\"\",\"size\":2,\"stargazers_count\":0,\"watchers_count\":0,\"language\":null,\"has_issues\":false,\"has_projects\":true,\"has_downloads\":true,\"has_wiki\":true,\"has_pages\":false,\"forks_count\":0,\"mirror_url\":null,\"archived\":false,\"disabled\":false,\"open_issues_count\":0,\"license\":null,\"forks\":0,\"open_issues\":0,\"watchers\":0,\"default_branch\":\"main\",\"public\":true}},\"public\":true,\"created_at\":\"2021-01-19T08:33:38Z\",\"org\":{\"id\":9919,\"login\":\"github\",\"gravatar_id\":\"\",\"url\":\"https://api.github.com/orgs/github\",\"avatar_url\":\"https://avatars.githubusercontent.com/u/9919?\"}},{\"id\":\"14865239326\",\"type\":\"PushEvent\",\"actor\":{\"id\":61705813,\"login\":\"rwilliams2021\",\"display_login\":\"rwilliams2021\",\"gravatar_id\":\"\",\"url\":\"https://api.github.com/users/rwilliams2021\",\"avatar_url\":\"https://avatars.githubusercontent.com/u/61705813?\"},\"repo\":{\"id\":330908294,\"name\":\"RikaUmra/teamrepo\",\"url\":\"https://api.github.com/repos/RikaUmra/teamrepo\"},\"payload\":{\"push_id\":6374370860,\"size\":1,\"distinct_size\":1,\"ref\":\"refs/heads/master\",\"head\":\"c4c303cafe1133771c57624fd04012b2eb2389ae\",\"before\":\"ad481a26c19a67c1190e5a423ccc85831dc56b2a\",\"commits\":[{\"sha\":\"c4c303cafe1133771c57624fd04012b2eb2389ae\",\"author\":{\"email\":\"richyrichw93@gmail.com\",\"name\":\"rwilliams\"},\"message\":\"added richard.txt\",\"distinct\":true,\"url\":\"https://api.github.com/repos/RikaUmra/teamrepo/commits/c4c303cafe1133771c57624fd04012b2eb2389ae\"}]},\"public\":true,\"created_at\":\"2021-01-19T08:33:38Z\"},{\"id\":\"14865239344\",\"type\":\"DeleteEvent\",\"actor\":{\"id\":77656991,\"login\":\"jooo21\",\"display_login\":\"jooo21\",\"gravatar_id\":\"\",\"url\":\"https://api.github.com/users/jooo21\",\"avatar_url\":\"https://avatars.githubusercontent.com/u/77656991?\"},\"repo\":{\"id\":330907023,\"name\":\"jooo21/github_page\",\"url\":\"https://api.github.com/repos/jooo21/github_page\"},\"payload\":{\"ref\":\"bg\",\"ref_type\":\"branch\",\"pusher_type\":\"user\"},\"public\":true,\"created_at\":\"2021-01-19T08:33:38Z\"},{\"id\":\"14865239327\",\"type\":\"PushEvent\",\"actor\":{\"id\":74113347,\"login\":\"commit-b0t\",\"display_login\":\"commit-b0t\",\"gravatar_id\":\"\",\"url\":\"https://api.github.com/users/commit-b0t\",\"avatar_url\":\"https://avatars.githubusercontent.com/u/74113347?\"},\"repo\":{\"id\":310908821,\"name\":\"commit-b0t/commit-b0t\",\"url\":\"https://api.github.com/repos/commit-b0t/commit-b0t\"},\"payload\":{\"push_id\":6374370856,\"size\":1,\"distinct_size\":1,\"ref\":\"refs/heads/master\",\"head\":\"1eceff58e268caff6e70ce2e53349d5ffe544805\",\"before\":\"52bab5f727bc72012ad00f54575234bae480375c\",\"commits\":[{\"sha\":\"1eceff58e268caff6e70ce2e53349d5ffe544805\",\"author\":{\"email\":\"74113347+commit-b0t@users.noreply.github.com\",\"name\":\"Commit\"},\"message\":\"chore: updated README.md\",\"distinct\":true,\"url\":\"https://api.github.com/repos/commit-b0t/commit-b0t/commits/1eceff58e268caff6e70ce2e53349d5ffe544805\"}]},\"public\":true,\"created_at\":\"2021-01-19T08:33:38Z\"},{\"id\":\"14865239333\",\"type\":\"CommitCommentEvent\",\"actor\":{\"id\":38162891,\"login\":\"illfated\",\"display_login\":\"illfated\",\"gravatar_id\":\"\",\"url\":\"https://api.github.com/users/illfated\",\"avatar_url\":\"https://avatars.githubusercontent.com/u/38162891?\"},\"repo\":{\"id\":1204412,\"name\":\"TrinityCore/TrinityCore\",\"url\":\"https://api.github.com/repos/TrinityCore/TrinityCore\"},\"payload\":{\"comment\":{\"url\":\"https://api.github.com/repos/TrinityCore/TrinityCore/comments/46100036\",\"html_url\":\"https://github.com/TrinityCore/TrinityCore/commit/8c43abaeb291eba1d46a00f3412487856f444e2d#commitcomment-46100036\",\"id\":46100036,\"node_id\":\"MDEzOkNvbW1pdENvbW1lbnQ0NjEwMDAzNg==\",\"user\":{\"login\":\"illfated\",\"id\":38162891,\"node_id\":\"MDQ6VXNlcjM4MTYyODkx\",\"avatar_url\":\"https://avatars3.githubusercontent.com/u/38162891?v=4\",\"gravatar_id\":\"\",\"url\":\"https://api.github.com/users/illfated\",\"html_url\":\"https://github.com/illfated\",\"followers_url\":\"https://api.github.com/users/illfated/followers\",\"following_url\":\"https://api.github.com/users/illfated/following{/other_user}\",\"gists_url\":\"https://api.github.com/users/illfated/gists{/gist_id}\",\"starred_url\":\"https://api.github.com/users/illfated/starred{/owner}{/repo}\",\"subscriptions_url\":\"https://api.github.com/users/illfated/subscriptions\",\"organizations_url\":\"https://api.github.com/users/illfated/orgs\",\"repos_url\":\"https://api.github.com/users/illfated/repos\",\"events_url\":\"https://api.github.com/users/illfated/events{/privacy}\",\"received_events_url\":\"https://api.github.com/users/illfated/received_events\",\"type\":\"User\",\"site_admin\":false},\"position\":null,\"line\":null,\"path\":null,\"commit_id\":\"8c43abaeb291eba1d46a00f3412487856f444e2d\",\"created_at\":\"2021-01-19T08:33:38Z\",\"updated_at\":\"2021-01-19T08:33:38Z\",\"author_association\":\"CONTRIBUTOR\",\"body\":\"Oh. Right — derp.  `.npc add temp [...]` I see.\"}},\"public\":true,\"created_at\":\"2021-01-19T08:33:38Z\",\"org\":{\"id\":539602,\"login\":\"TrinityCore\",\"gravatar_id\":\"\",\"url\":\"https://api.github.com/orgs/TrinityCore\",\"avatar_url\":\"https://avatars.githubusercontent.com/u/539602?\"}},{\"id\":\"14865239332\",\"type\":\"CreateEvent\",\"actor\":{\"id\":75303679,\"login\":\"1OpoH1\",\"display_login\":\"1OpoH1\",\"gravatar_id\":\"\",\"url\":\"https://api.github.com/users/1OpoH1\",\"avatar_url\":\"https://avatars.githubusercontent.com/u/75303679?\"},\"repo\":{\"id\":325249168,\"name\":\"1OpoH1/Platformer\",\"url\":\"https://api.github.com/repos/1OpoH1/Platformer\"},\"payload\":{\"ref\":\"Entities\",\"ref_type\":\"branch\",\"master_branch\":\"main\",\"description\":\"project for YandexLyceum\",\"pusher_type\":\"user\"},\"public\":true,\"created_at\":\"2021-01-19T08:33:38Z\"},{\"id\":\"14865239312\",\"type\":\"PushEvent\",\"actor\":{\"id\":7844900,\"login\":\"zeiren\",\"display_login\":\"zeiren\",\"gravatar_id\":\"\",\"url\":\"https://api.github.com/users/zeiren\",\"avatar_url\":\"https://avatars.githubusercontent.com/u/7844900?\"},\"repo\":{\"id\":196519855,\"name\":\"zeiren/Linux-Tutorial\",\"url\":\"https://api.github.com/repos/zeiren/Linux-Tutorial\"},\"payload\":{\"push_id\":6374370852,\"size\":23,\"distinct_size\":23,\"ref\":\"refs/heads/master\",\"head\":\"f7ecc7dc55cf7db6756df1151f86f93fa2ac0a59\",\"before\":\"8c97b20723e931d68567015a6bb91e16169ebfb9\",\"commits\":[{\"sha\":\"aa7bcfaaad03ef73092e564712d6e01bd3d163e1\",\"author\":{\"email\":\"jian.tan@daocloud.io\",\"name\":\"Jared Tan\"},\"message\":\"update demo dockerfile.\\\\n\\\\naccording https://github.com/apache/skywalking/blob/master/apm-sniffer/config/agent.config#L18. Env vars has changed.\",\"distinct\":true,\"url\":\"https://api.github.com/repos/zeiren/Linux-Tutorial/commits/aa7bcfaaad03ef73092e564712d6e01bd3d163e1\"},{\"sha\":\"e924e95351adc3f7eb6a43ccc8ba96ca69e61d41\",\"author\":{\"email\":\"gitnaviauto@qq.com\",\"name\":\"zhang\"},\"message\":\"Elasticsearch\",\"distinct\":true,\"url\":\"https://api.github.com/repos/zeiren/Linux-Tutorial/commits/e924e95351adc3f7eb6a43ccc8ba96ca69e61d41\"},{\"sha\":\"5694f0a85641e9cfeaf923aff88304e70c83b777\",\"author\":{\"email\":\"gitnaviauto@qq.com\",\"name\":\"zhang\"},\"message\":\"Elasticsearch\",\"distinct\":true,\"url\":\"https://api.github.com/repos/zeiren/Linux-Tutorial/commits/5694f0a85641e9cfeaf923aff88304e70c83b777\"},{\"sha\":\"91a1876f352f68745d1e380836d8dab32c883219\",\"author\":{\"email\":\"gitnaviauto@qq.com\",\"name\":\"zhang\"},\"message\":\"Elasticsearch\",\"distinct\":true,\"url\":\"https://api.github.com/repos/zeiren/Linux-Tutorial/commits/91a1876f352f68745d1e380836d8dab32c883219\"},{\"sha\":\"c13cd7fe4830e9231fa31ba0220c9dcd690fecd3\",\"author\":{\"email\":\"gitnaviauto@qq.com\",\"name\":\"zhang\"},\"message\":\"Elasticsearch\",\"distinct\":true,\"url\":\"https://api.github.com/repos/zeiren/Linux-Tutorial/commits/c13cd7fe4830e9231fa31ba0220c9dcd690fecd3\"},{\"sha\":\"15086fcde61f2252ca06edf782c2200cdbe14335\",\"author\":{\"email\":\"gitnaviauto@qq.com\",\"name\":\"zhang\"},\"message\":\"Elasticsearch\",\"distinct\":true,\"url\":\"https://api.github.com/repos/zeiren/Linux-Tutorial/commits/15086fcde61f2252ca06edf782c2200cdbe14335\"},{\"sha\":\"7431a20d35067f52b2c55d7b05227d59c3ecd102\",\"author\":{\"email\":\"jn3.141592654@gmail.com\",\"name\":\"judasn\"},\"message\":\"Elasticsearch\",\"distinct\":true,\"url\":\"https://api.github.com/repos/zeiren/Linux-Tutorial/commits/7431a20d35067f52b2c55d7b05227d59c3ecd102\"},{\"sha\":\"359f14fcb2136f84c14611019eff3426b31f710b\",\"author\":{\"email\":\"jn3.141592654@gmail.com\",\"name\":\"Judas.n\"},\"message\":\"Merge pull request #47 from JaredTan95/patch-1\\\\n\\\\nupdate demo dockerfile.\",\"distinct\":true,\"url\":\"https://api.github.com/repos/zeiren/Linux-Tutorial/commits/359f14fcb2136f84c14611019eff3426b31f710b\"},{\"sha\":\"e6559ace64791755c5871b9db88273c8d9008df6\",\"author\":{\"email\":\"jn3.141592654@gmail.com\",\"name\":\"judasn\"},\"message\":\"Elasticsearch\",\"distinct\":true,\"url\":\"https://api.github.com/repos/zeiren/Linux-Tutorial/commits/e6559ace64791755c5871b9db88273c8d9008df6\"},{\"sha\":\"31a876dfae112ba1de1ae997c54894db7732b55c\",\"author\":{\"email\":\"jn3.141592654@gmail.com\",\"name\":\"Judas.n\"},\"message\":\"Update README.md\",\"distinct\":true,\"url\":\"https://api.github.com/repos/zeiren/Linux-Tutorial/commits/31a876dfae112ba1de1ae997c54894db7732b55c\"},{\"sha\":\"f227d7a07b751d3308d7dc3d62270a43716bfab5\",\"author\":{\"email\":\"jn3.141592654@gmail.com\",\"name\":\"judasn\"},\"message\":\"WordPress\",\"distinct\":true,\"url\":\"https://api.github.com/repos/zeiren/Linux-Tutorial/commits/f227d7a07b751d3308d7dc3d62270a43716bfab5\"},{\"sha\":\"0b3e9155204cd9425df4e2ebeaef76a0f05aef66\",\"author\":{\"email\":\"gitnaviauto@qq.com\",\"name\":\"zhang\"},\"message\":\"Gravitee\",\"distinct\":true,\"url\":\"https://api.github.com/repos/zeiren/Linux-Tutorial/commits/0b3e9155204cd9425df4e2ebeaef76a0f05aef66\"},{\"sha\":\"3fede534cc82c1a4b30de07aa19becf8f79408c3\",\"author\":{\"email\":\"jn3.141592654@gmail.com\",\"name\":\"judasn\"},\"message\":\"2019-08-19\",\"distinct\":true,\"url\":\"https://api.github.com/repos/zeiren/Linux-Tutorial/commits/3fede534cc82c1a4b30de07aa19becf8f79408c3\"},{\"sha\":\"5ca8e8b6e72398eb3764736ae991e36706a1955c\",\"author\":{\"email\":\"jn3.141592654@gmail.com\",\"name\":\"Judas.n\"},\"message\":\"Update README.md\",\"distinct\":true,\"url\":\"https://api.github.com/repos/zeiren/Linux-Tutorial/commits/5ca8e8b6e72398eb3764736ae991e36706a1955c\"},{\"sha\":\"5737ad495ebb96b8b3cb1313972b155effd71be2\",\"author\":{\"email\":\"jn3.141592654@gmail.com\",\"name\":\"Judas.n\"},\"message\":\"Update README.md\",\"distinct\":true,\"url\":\"https://api.github.com/repos/zeiren/Linux-Tutorial/commits/5737ad495ebb96b8b3cb1313972b155effd71be2\"},{\"sha\":\"dd7514316f27e78df6c6c690af60bd92dc06eb68\",\"author\":{\"email\":\"jn3.141592654@gmail.com\",\"name\":\"Judas.n\"},\"message\":\"Update README.md\",\"distinct\":true,\"url\":\"https://api.github.com/repos/zeiren/Linux-Tutorial/commits/dd7514316f27e78df6c6c690af60bd92dc06eb68\"},{\"sha\":\"e95b2b7a1d6594103583076733b3ac6e6f905415\",\"author\":{\"email\":\"51701412+cdk8s-zelda@users.noreply.github.com\",\"name\":\"cdk8s-zelda\"},\"message\":\"Update README.md\",\"distinct\":true,\"url\":\"https://api.github.com/repos/zeiren/Linux-Tutorial/commits/e95b2b7a1d6594103583076733b3ac6e6f905415\"},{\"sha\":\"aec2ad2693d79c6ae85d13f847b19ea20c04bd28\",\"author\":{\"email\":\"jn3.141592654@gmail.com\",\"name\":\"judasn\"},\"message\":\" monitor\",\"distinct\":true,\"url\":\"https://api.github.com/repos/zeiren/Linux-Tutorial/commits/aec2ad2693d79c6ae85d13f847b19ea20c04bd28\"},{\"sha\":\"6c13ef6789caa3dbdabf3cce346af18a5dc01d4b\",\"author\":{\"email\":\"jn3.141592654@gmail.com\",\"name\":\"judasn\"},\"message\":\" monitor\",\"distinct\":true,\"url\":\"https://api.github.com/repos/zeiren/Linux-Tutorial/commits/6c13ef6789caa3dbdabf3cce346af18a5dc01d4b\"},{\"sha\":\"ad52e9864a3408122c2feb78040256bdb890f5f1\",\"author\":{\"email\":\"jn3.141592654@gmail.com\",\"name\":\"judasn\"},\"message\":\" monitor\",\"distinct\":true,\"url\":\"https://api.github.com/repos/zeiren/Linux-Tutorial/commits/ad52e9864a3408122c2feb78040256bdb890f5f1\"}]},\"public\":true,\"created_at\":\"2021-01-19T08:33:38Z\"},{\"id\":\"14865239305\",\"type\":\"PushEvent\",\"actor\":{\"id\":47690444,\"login\":\"jiseongg\",\"display_login\":\"jiseongg\",\"gravatar_id\":\"\",\"url\":\"https://api.github.com/users/jiseongg\",\"avatar_url\":\"https://avatars.githubusercontent.com/u/47690444?\"},\"repo\":{\"id\":329465923,\"name\":\"jiseongg/program-verification\",\"url\":\"https://api.github.com/repos/jiseongg/program-verification\"},\"payload\":{\"push_id\":6374370849,\"size\":1,\"distinct_size\":1,\"ref\":\"refs/heads/master\",\"head\":\"57321a94a71a3002d45ca55389ba75f806bca216\",\"before\":\"5a7c7cd65f8b5b4e9aaac7e094281263cbf4b90f\",\"commits\":[{\"sha\":\"57321a94a71a3002d45ca55389ba75f806bca216\",\"author\":{\"email\":\"jiseongg301@gmail.com\",\"name\":\"jiseongg\"},\"message\":\"<feat>: add optional argument - maximum term count\",\"distinct\":true,\"url\":\"https://api.github.com/repos/jiseongg/program-verification/commits/57321a94a71a3002d45ca55389ba75f806bca216\"}]},\"public\":true,\"created_at\":\"2021-01-19T08:33:38Z\"},{\"id\":\"14865239300\",\"type\":\"GollumEvent\",\"actor\":{\"id\":77658644,\"login\":\"enges036\",\"display_login\":\"enges036\",\"gravatar_id\":\"\",\"url\":\"https://api.github.com/users/enges036\",\"avatar_url\":\"https://avatars.githubusercontent.com/u/77658644?\"},\"repo\":{\"id\":330880644,\"name\":\"enges036/tkpnqjzpvf\",\"url\":\"https://api.github.com/repos/enges036/tkpnqjzpvf\"},\"payload\":{\"pages\":[{\"page_name\":\"济南哪里教打麻将手法\",\"title\":\"济南哪里教打麻将手法\",\"summary\":null,\"action\":\"created\",\"sha\":\"5a4295833e5daebd8114af3a996073fd7e55d461\",\"html_url\":\"https://github.com/enges036/tkpnqjzpvf/wiki/%E6%B5%8E%E5%8D%97%E5%93%AA%E9%87%8C%E6%95%99%E6%89%93%E9%BA%BB%E5%B0%86%E6%89%8B%E6%B3%95\"}]},\"public\":true,\"created_at\":\"2021-01-19T08:33:38Z\"},{\"id\":\"14865239303\",\"type\":\"PushEvent\",\"actor\":{\"id\":48317757,\"login\":\"Leapense\",\"display_login\":\"Leapense\",\"gravatar_id\":\"\",\"url\":\"https://api.github.com/users/Leapense\",\"avatar_url\":\"https://avatars.githubusercontent.com/u/48317757?\"},\"repo\":{\"id\":325250531,\"name\":\"Leapense/Baekjoon\",\"url\":\"https://api.github.com/repos/Leapense/Baekjoon\"},\"payload\":{\"push_id\":6374370853,\"size\":1,\"distinct_size\":1,\"ref\":\"refs/heads/main\",\"head\":\"54972ac23f4be1c478037bd31afe2227640b4d10\",\"before\":\"4c65562e9b79ada4ff62d9e9c7f06442f576a29f\",\"commits\":[{\"sha\":\"54972ac23f4be1c478037bd31afe2227640b4d10\",\"author\":{\"email\":\"48317757+Leapense@users.noreply.github.com\",\"name\":\"Leapense\"},\"message\":\"added num6190/Main.java\",\"distinct\":true,\"url\":\"https://api.github.com/repos/Leapense/Baekjoon/commits/54972ac23f4be1c478037bd31afe2227640b4d10\"}]},\"public\":true,\"created_at\":\"2021-01-19T08:33:38Z\"},{\"id\":\"14865239294\",\"type\":\"PushEvent\",\"actor\":{\"id\":76469422,\"login\":\"viveta341\",\"display_login\":\"viveta341\",\"gravatar_id\":\"\",\"url\":\"https://api.github.com/users/viveta341\",\"avatar_url\":\"https://avatars.githubusercontent.com/u/76469422?\"},\"repo\":{\"id\":323553324,\"name\":\"viveta341/muotve\",\"url\":\"https://api.github.com/repos/viveta341/muotve\"},\"payload\":{\"push_id\":6374370850,\"size\":1,\"distinct_size\":1,\"ref\":\"refs/heads/main\",\"head\":\"4875b685d705eb481e804674b4ad2ca81465d462\",\"before\":\"61d6e1201c7318621f4cffd5fc6f61d7e8ba913a\",\"commits\":[{\"sha\":\"4875b685d705eb481e804674b4ad2ca81465d462\",\"author\":{\"email\":\"76469422+viveta341@users.noreply.github.com\",\"name\":\"viveta341\"},\"message\":\"#add 1611045215089.update\",\"distinct\":true,\"url\":\"https://api.github.com/repos/viveta341/muotve/commits/4875b685d705eb481e804674b4ad2ca81465d462\"}]},\"public\":true,\"created_at\":\"2021-01-19T08:33:38Z\"},{\"id\":\"14865239297\",\"type\":\"CreateEvent\",\"actor\":{\"id\":77613326,\"login\":\"ems-git\",\"display_login\":\"ems-git\",\"gravatar_id\":\"\",\"url\":\"https://api.github.com/users/ems-git\",\"avatar_url\":\"https://avatars.githubusercontent.com/u/77613326?\"},\"repo\":{\"id\":330913261,\"name\":\"ems-git/hello-word\",\"url\":\"https://api.github.com/repos/ems-git/hello-word\"},\"payload\":{\"ref\":\"readme-edits\",\"ref_type\":\"branch\",\"master_branch\":\"main\",\"description\":\"first repository\",\"pusher_type\":\"user\"},\"public\":true,\"created_at\":\"2021-01-19T08:33:38Z\"},{\"id\":\"14865239284\",\"type\":\"PushEvent\",\"actor\":{\"id\":66407216,\"login\":\"BT-dgonzalez\",\"display_login\":\"BT-dgonzalez\",\"gravatar_id\":\"\",\"url\":\"https://api.github.com/users/BT-dgonzalez\",\"avatar_url\":\"https://avatars.githubusercontent.com/u/66407216?\"},\"repo\":{\"id\":295664377,\"name\":\"brain-tec/odoo-1\",\"url\":\"https://api.github.com/repos/brain-tec/odoo-1\"},\"payload\":{\"push_id\":6374370836,\"size\":2,\"distinct_size\":1,\"ref\":\"refs/heads/13.0.project_MI_465\",\"head\":\"351dd0fc1827cef1efa9532321048b95dd6d2ea7\",\"before\":\"856dbddf21da6b177017409b27b0bb9e0f5036d6\",\"commits\":[{\"sha\":\"1c114cbf6a892cbc2222904cfd49dc50aae2ed87\",\"author\":{\"email\":\"alvaro.estebanez@braintec-group.com\",\"name\":\"BT-aestebanez\"},\"message\":\"[bt#12862] Frepple: Product Export Incomplete\",\"distinct\":false,\"url\":\"https://api.github.com/repos/brain-tec/odoo-1/commits/1c114cbf6a892cbc2222904cfd49dc50aae2ed87\"},{\"sha\":\"351dd0fc1827cef1efa9532321048b95dd6d2ea7\",\"author\":{\"email\":\"66407216+BT-dgonzalez@users.noreply.github.com\",\"name\":\"David González Sánchez\"},\"message\":\"Merge pull request #44 from brain-tec/13.0.project_MI_465.bt#12862\\\\n\\\\n[bt#12862] Frepple: Product Export Incomplete\",\"distinct\":true,\"url\":\"https://api.github.com/repos/brain-tec/odoo-1/commits/351dd0fc1827cef1efa9532321048b95dd6d2ea7\"}]},\"public\":true,\"created_at\":\"2021-01-19T08:33:38Z\",\"org\":{\"id\":9976435,\"login\":\"brain-tec\",\"gravatar_id\":\"\",\"url\":\"https://api.github.com/orgs/brain-tec\",\"avatar_url\":\"https://avatars.githubusercontent.com/u/9976435?\"}},{\"id\":\"14865239278\",\"type\":\"CreateEvent\",\"actor\":{\"id\":41835890,\"login\":\"ToufiqurRahmanTamkin\",\"display_login\":\"ToufiqurRahmanTamkin\",\"gravatar_id\":\"\",\"url\":\"https://api.github.com/users/ToufiqurRahmanTamkin\",\"avatar_url\":\"https://avatars.githubusercontent.com/u/41835890?\"},\"repo\":{\"id\":330912607,\"name\":\"ToufiqurRahmanTamkin/fun\",\"url\":\"https://api.github.com/repos/ToufiqurRahmanTamkin/fun\"},\"payload\":{\"ref\":\"main\",\"ref_type\":\"branch\",\"master_branch\":\"main\",\"description\":null,\"pusher_type\":\"user\"},\"public\":true,\"created_at\":\"2021-01-19T08:33:38Z\"},{\"id\":\"14865239263\",\"type\":\"PushEvent\",\"actor\":{\"id\":38527728,\"login\":\"swisnu\",\"display_login\":\"swisnu\",\"gravatar_id\":\"\",\"url\":\"https://api.github.com/users/swisnu\",\"avatar_url\":\"https://avatars.githubusercontent.com/u/38527728?\"},\"repo\":{\"id\":330903596,\"name\":\"swisnu/Resolusi-Tahun-2021\",\"url\":\"https://api.github.com/repos/swisnu/Resolusi-Tahun-2021\"},\"payload\":{\"push_id\":6374370831,\"size\":1,\"distinct_size\":1,\"ref\":\"refs/heads/rencana-2021\",\"head\":\"61c1309af8c734d24463ef345a74ca43954767f3\",\"before\":\"766f264eefebd256bd2ae2e721f18c8dadf78abf\",\"commits\":[{\"sha\":\"61c1309af8c734d24463ef345a74ca43954767f3\",\"author\":{\"email\":\"38527728+swisnu@users.noreply.github.com\",\"name\":\"swisnu\"},\"message\":\"menambahkan detail usia membali rumah\",\"distinct\":true,\"url\":\"https://api.github.com/repos/swisnu/Resolusi-Tahun-2021/commits/61c1309af8c734d24463ef345a74ca43954767f3\"}]},\"public\":true,\"created_at\":\"2021-01-19T08:33:38Z\"}]'"
      ]
     },
     "metadata": {},
     "execution_count": 7
    }
   ],
   "source": [
    "'''\n",
    "Your Code\n",
    "'''\n",
    "import requests\n",
    "\n",
    "r = requests.get('https://api.github.com/events')\n",
    "r.text"
   ]
  },
  {
   "cell_type": "code",
   "execution_count": 8,
   "metadata": {},
   "outputs": [
    {
     "output_type": "execute_result",
     "data": {
      "text/plain": [
       "dict"
      ]
     },
     "metadata": {},
     "execution_count": 8
    }
   ],
   "source": [
    "import json\n",
    "\n",
    "payload = {'key1': 'value1', 'key2': 'value2'}\n",
    "r = requests.get(\"http://httpbin.org/get\", params=payload)\n",
    "json.loads(r.text)"
   ]
  },
  {
   "cell_type": "code",
   "execution_count": 4,
   "metadata": {},
   "outputs": [
    {
     "output_type": "execute_result",
     "data": {
      "text/plain": [
       "{'args': {},\n",
       " 'data': '',\n",
       " 'files': {},\n",
       " 'form': {'key': 'value'},\n",
       " 'headers': {'Accept': '*/*',\n",
       "  'Accept-Encoding': 'gzip, deflate',\n",
       "  'Content-Length': '9',\n",
       "  'Content-Type': 'application/x-www-form-urlencoded',\n",
       "  'Host': 'httpbin.org',\n",
       "  'User-Agent': 'python-requests/2.25.1',\n",
       "  'X-Amzn-Trace-Id': 'Root=1-60069a28-600ee960391b4db428623af2'},\n",
       " 'json': None,\n",
       " 'origin': '111.82.180.9',\n",
       " 'url': 'http://httpbin.org/post'}"
      ]
     },
     "metadata": {},
     "execution_count": 4
    }
   ],
   "source": [
    "r = requests.post('http://httpbin.org/post', data = {'key':'value'})\n",
    "json.loads(r.text)"
   ]
  },
  {
   "source": [
    "r.text 回傳的是 string  \n",
    "json.loads(r.text)"
   ],
   "cell_type": "markdown",
   "metadata": {}
  },
  {
   "cell_type": "markdown",
   "metadata": {
    "colab_type": "text",
    "id": "eJwMGD6XUdOn"
   },
   "source": [
    "### 自行尋找一個合適的 API 接口做練習，並且查看其回傳內容\n",
    "\n",
    "* https://cat-fact.herokuapp.com/facts (來源：https://alexwohlbruck.github.io/cat-facts/)\n",
    "* http://odata.wra.gov.tw/v4/RealtimeWaterLevel (來源：https://data.gov.tw/dataset/25768)\n"
   ]
  },
  {
   "cell_type": "code",
   "execution_count": 11,
   "metadata": {
    "colab": {},
    "colab_type": "code",
    "id": "XDvzxwA0UdOn",
    "outputId": "154b29e6-cd0d-48b9-e659-6e9a3f55e274"
   },
   "outputs": [
    {
     "output_type": "execute_result",
     "data": {
      "text/plain": [
       "[{'status': {'verified': True, 'sentCount': 1, 'feedback': ''},\n",
       "  'type': 'cat',\n",
       "  'deleted': False,\n",
       "  '_id': '5887e1d85c873e0011036889',\n",
       "  'user': '5a9ac18c7478810ea6c06381',\n",
       "  'text': 'Cats make about 100 different sounds. Dogs make only about 10.',\n",
       "  '__v': 0,\n",
       "  'source': 'user',\n",
       "  'updatedAt': '2020-09-03T16:39:39.578Z',\n",
       "  'createdAt': '2018-01-15T21:20:00.003Z',\n",
       "  'used': True},\n",
       " {'status': {'verified': True, 'sentCount': 1},\n",
       "  'type': 'cat',\n",
       "  'deleted': False,\n",
       "  '_id': '588e746706ac2b00110e59ff',\n",
       "  'user': '588e6e8806ac2b00110e59c3',\n",
       "  'text': 'Domestic cats spend about 70 percent of the day sleeping and 15 percent of the day grooming.',\n",
       "  '__v': 0,\n",
       "  'source': 'user',\n",
       "  'updatedAt': '2020-08-26T20:20:02.359Z',\n",
       "  'createdAt': '2018-01-14T21:20:02.750Z',\n",
       "  'used': True},\n",
       " {'status': {'verified': True, 'sentCount': 1},\n",
       "  'type': 'cat',\n",
       "  'deleted': False,\n",
       "  '_id': '58923f2fc3878c0011784c79',\n",
       "  'user': '5887e9f65c873e001103688d',\n",
       "  'text': \"I don't know anything about cats.\",\n",
       "  '__v': 0,\n",
       "  'source': 'user',\n",
       "  'updatedAt': '2020-08-23T20:20:01.611Z',\n",
       "  'createdAt': '2018-02-25T21:20:03.060Z',\n",
       "  'used': False},\n",
       " {'status': {'verified': True, 'sentCount': 1},\n",
       "  'type': 'cat',\n",
       "  'deleted': False,\n",
       "  '_id': '5894af975cdc7400113ef7f9',\n",
       "  'user': '5a9ac18c7478810ea6c06381',\n",
       "  'text': 'The technical term for a cat’s hairball is a bezoar.',\n",
       "  '__v': 0,\n",
       "  'source': 'user',\n",
       "  'updatedAt': '2020-11-25T21:20:03.895Z',\n",
       "  'createdAt': '2018-02-27T21:20:02.854Z',\n",
       "  'used': True},\n",
       " {'status': {'verified': True, 'sentCount': 1},\n",
       "  'type': 'cat',\n",
       "  'deleted': False,\n",
       "  '_id': '58e007cc0aac31001185ecf5',\n",
       "  'user': '58e007480aac31001185ecef',\n",
       "  'text': 'Cats are the most popular pet in the United States: There are 88 million pet cats and 74 million dogs.',\n",
       "  '__v': 0,\n",
       "  'source': 'user',\n",
       "  'updatedAt': '2020-08-23T20:20:01.611Z',\n",
       "  'createdAt': '2018-03-01T21:20:02.713Z',\n",
       "  'used': False}]"
      ]
     },
     "metadata": {},
     "execution_count": 11
    }
   ],
   "source": [
    "'''\n",
    "Your Code\n",
    "'''\n",
    "import json\n",
    "\n",
    "r = requests.get(\"https://cat-fact.herokuapp.com/facts\")\n",
    "json.loads(r.text)"
   ]
  }
 ],
 "metadata": {
  "colab": {
   "name": "homework.ipynb",
   "provenance": []
  },
  "kernelspec": {
   "display_name": "Python 3",
   "language": "python",
   "name": "python3"
  },
  "language_info": {
   "codemirror_mode": {
    "name": "ipython",
    "version": 3
   },
   "file_extension": ".py",
   "mimetype": "text/x-python",
   "name": "python",
   "nbconvert_exporter": "python",
   "pygments_lexer": "ipython3",
   "version": "3.7.9-final"
  }
 },
 "nbformat": 4,
 "nbformat_minor": 1
}