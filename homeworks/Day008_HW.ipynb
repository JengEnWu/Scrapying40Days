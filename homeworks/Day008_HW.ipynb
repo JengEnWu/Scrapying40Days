{
 "cells": [
  {
   "cell_type": "markdown",
   "metadata": {},
   "source": [
    "# 靜態網頁的資料爬蟲策略\n",
    "\n",
    "\n",
    "* 了解靜態網頁的資料爬蟲策略\n",
    "* 認識適用於靜態網頁爬蟲的相關套件工具：Request\n",
    "* 認識適用於靜態網頁爬蟲的相關套件工具：BeatifulSoup"
   ]
  },
  {
   "cell_type": "markdown",
   "metadata": {},
   "source": [
    "## 作業目標\n",
    "\n",
    "利用 Request + BeatifulSoup 爬取下列兩個網站內容並解析：\n",
    "\n",
    "1. Dcared 網址： https://www.dcard.tw/f\n",
    "2. 知乎： https://www.zhihu.com/explore\n",
    "\n",
    "並且回答下面問題：\n",
    "\n",
    "1. Request 取回之後該怎麼取出資料，資料型態是什麼？\n",
    "2. 為什麼要使用 BeatifulSoup 處理？處理後的型態是什麼？\n",
    "3. 觀察一下知乎回來的資料好像有點怪怪的，該怎麼解決？"
   ]
  },
  {
   "cell_type": "markdown",
   "metadata": {},
   "source": [
    "### 1. Dcard 網址： https://www.dcard.tw/f"
   ]
  },
  {
   "cell_type": "code",
   "execution_count": 1,
   "metadata": {},
   "outputs": [],
   "source": [
    "import requests\n",
    "from bs4 import BeautifulSoup\n"
   ]
  },
  {
   "cell_type": "code",
   "execution_count": 6,
   "metadata": {},
   "outputs": [
    {
     "output_type": "stream",
     "name": "stdout",
     "text": [
      "<!DOCTYPE html><html lang=\"zh-TW\"><head prefix=\"og: http://ogp.me/ns#\" itemscope=\"\" itemType=\"https://schema.org/WebSite\"><meta charSet=\"utf-8\"/><meta http-equiv=\"X-UA-Compatible\" content=\"IE=edge\"/><meta name=\"apple-mobile-web-app-status-bar-style\" content=\"default\"/><meta name=\"application-name\" content=\"Dcard\"/><meta name=\"apple-itunes-app\" content=\"app-id=951353454\"/><meta name=\"theme-color\" content=\"#006aa6\"/><meta name=\"mobile-web-app-capable\" content=\"yes\"/><meta name=\"apple-mobile-web-app-capable\" content=\"yes\"/><meta name=\"supported-color-schemes\" content=\"light\"/><meta property=\"fb:app_id\" content=\"211628828926493\"/><meta property=\"fb:pages\" content=\"178875832200695,577748865730563,1333515469994506,619122564952487,804004803032067,178024805867764\"/><meta property=\"al:ios:app_store_id\" content=\"951353454\"/><meta property=\"al:ios:app_name\" content=\"Dcard\"/><meta property=\"al:android:package\" content=\"com.sparkslab.dcardreader\"/><meta property=\"al:android:app_name\" content=\"Dcard\"/><link rel=\"manifest\" href=\"/_next/static/manifest.json\"/><link rel=\"preconnect\" href=\"https://www.googletagmanager.com\" crossorigin=\"true\"/><link rel=\"preconnect\" href=\"https://fonts.googleapis.com\" crossorigin=\"true\"/><link rel=\"preconnect\" href=\"https://fonts.gstatic.com\" crossorigin=\"true\"/><link rel=\"dns-prefetch\" href=\"https://www.googletagmanager.com\"/><link rel=\"dns-prefetch\" href=\"https://fonts.googleapis.com\"/><link rel=\"dns-prefetch\" href=\"https://fonts.gstatic.com\"/><link rel=\"dns-prefetch\" href=\"https://www.google-analytics.com\"/><link rel=\"dns-prefetch\" href=\"https://sb.scorecardresearch.com\"/><link rel=\"dns-prefetch\" href=\"https://certify.alexametrics.com\"/><link rel=\"dns-prefetch\" href=\"https://cloudfront-labs.amazonaws.com\"/><link rel=\"dns-prefetch\" href=\"https://bilanx.dcard.tw\"/><link rel=\"dns-prefetch\" href=\"https://imgur.dcard.tw\"/><link rel=\"dns-prefetch\" href=\"https://megapx-assets.dcard.tw\"/><link rel=\"dns-prefetch\" href=\"https://browser.sentry-cdn.com\"/><link rel=\"dns-prefetch\" href=\"https://gcs.dcard.tw\"/><link rel=\"preload\" href=\"https://fonts.googleapis.com/css2?family=Roboto:wght@400;500;700&amp;display=swap\" as=\"style\"/><link rel=\"stylesheet\" href=\"https://fonts.googleapis.com/css2?family=Roboto:wght@400;500;700&amp;display=swap\"/><link rel=\"icon\" type=\"image/png\" sizes=\"16x16\" href=\"/_next/static/media/icon-16-8783abf2c964e446614d4d22e23ca2bb.png\"/><link rel=\"icon\" type=\"image/png\" sizes=\"24x24\" href=\"/_next/static/media/icon-24-32dfd860d03fae33428bcfcabbc07df5.png\"/><link rel=\"icon\" type=\"image/png\" sizes=\"32x32\" href=\"/_next/static/media/icon-32-7974ce7fd55403bdd4174737b963d694.png\"/><link rel=\"icon\" type=\"image/png\" sizes=\"192x192\" href=\"/_next/static/media/icon-192-8ddcd08c7f194cf623c2e405e1689557.png\"/><link rel=\"apple-touch-icon\" type=\"image/png\" sizes=\"57x57\" href=\"/_next/static/media/icon-57-f33c45592fe2c81b9f6fa9f7689e0d17.png\"/><link rel=\"apple-touch-icon\" type=\"image/png\" sizes=\"72x72\" href=\"/_next/static/media/icon-72-439\n"
     ]
    }
   ],
   "source": [
    "url = 'https://www.dcard.tw/f'\n",
    "\n",
    "'''\n",
    "Your Code Here\n",
    "'''\n",
    "r = requests.get(url)\n",
    "r.encoding = 'utf-8'\n",
    "response = r.text\n",
    "print(response[0:3000])"
   ]
  },
  {
   "cell_type": "code",
   "execution_count": 8,
   "metadata": {},
   "outputs": [
    {
     "output_type": "execute_result",
     "data": {
      "text/plain": [
       "str"
      ]
     },
     "metadata": {},
     "execution_count": 8
    }
   ],
   "source": [
    "type(response)"
   ]
  },
  {
   "cell_type": "code",
   "execution_count": 5,
   "metadata": {},
   "outputs": [
    {
     "output_type": "stream",
     "name": "stdout",
     "text": [
      "Request 取回之後該怎麼取出資料，資料型態是什麼？ => String\n"
     ]
    }
   ],
   "source": [
    "print('Request 取回之後該怎麼取出資料，資料型態是什麼？ => String')"
   ]
  },
  {
   "cell_type": "code",
   "execution_count": 18,
   "metadata": {
    "tags": [
     "outputPrepend"
    ]
   },
   "outputs": [
    {
     "output_type": "stream",
     "name": "stdout",
     "text": [
      "图片] 随后，375团在长达6公里的区域内，发现了多处这种异常昆虫群，最密集的一处达到了每平米600只，黑乎乎的昆虫群和周围的皑皑白雪形成…\",\"suggestEdit\":{\"reason\":\"\",\"status\":false,\"tip\":\"\",\"title\":\"\",\"unnormalDetails\":{\"status\":\"\",\"description\":\"\",\"reason\":\"\",\"reasonId\":0,\"note\":\"\"},\"url\":\"\"},\"thumbnailInfo\":{\"count\":18,\"type\":\"\",\"thumbnails\":[{\"type\":2,\"url\":\"https:\\u002F\\u002Fpic4.zhimg.com\\u002Fv2-16902a2400ba80494fc49d758aef52c2_720w.gif\",\"width\":639,\"height\":353,\"token\":\"v2-16902a2400ba80494fc49d758aef52c2\",\"dataId\":0},{\"type\":2,\"url\":\"https:\\u002F\\u002Fpic3.zhimg.com\\u002Fv2-9b9c4bd85589188125b826466f5bb5ba_720w.gif\",\"width\":522,\"height\":294,\"token\":\"v2-9b9c4bd85589188125b826466f5bb5ba\",\"dataId\":0},{\"type\":2,\"url\":\"https:\\u002F\\u002Fpic3.zhimg.com\\u002Fv2-d026e42852f225b775bfbd88609c6d32_720w.gif\",\"width\":542,\"height\":305,\"token\":\"v2-d026e42852f225b775bfbd88609c6d32\",\"dataId\":0}]},\"relationship\":{\"isAuthor\":false,\"isAuthorized\":false,\"isNothelp\":false,\"isThanked\":false,\"voting\":0},\"attachment\":{\"type\":\"ANSWER\",\"attachmentId\":\"\"}}},{\"content\":{\"id\":1685891641,\"type\":\"answer\",\"answerType\":\"\",\"url\":\"https:\\u002F\\u002Fwww.zhihu.com\\u002Fquestion\\u002F401128014\\u002Fanswer\\u002F1685891641\",\"createdTime\":1611035019,\"updatedTime\":1611047568,\"question\":{\"type\":\"question\",\"id\":401128014,\"title\":\"严格执行八小时工作制，双休，社会会变得怎样？\",\"questionType\":\"normal\",\"created\":1592019707,\"updatedTime\":1592019922,\"url\":\"https:\\u002F\\u002Fwww.zhihu.com\\u002Fquestion\\u002F401128014\"},\"author\":{\"id\":\"13ba78a859eaf6b9a5b27c5c56ee8419\",\"urlToken\":\"ze.ran\",\"name\":\"ze ran\",\"useDefaultAvatar\":false,\"avatarUrl\":\"https:\\u002F\\u002Fpic4.zhimg.com\\u002Fv2-2ef7f1bdfcf4fd26e7c7e715b7e6b8ad_l.jpg?source=2231c908\",\"avatarUrlTemplate\":\"https:\\u002F\\u002Fpic4.zhimg.com\\u002Fv2-2ef7f1bdfcf4fd26e7c7e715b7e6b8ad.jpg?source=2231c908\",\"isOrg\":false,\"type\":\"people\",\"url\":\"https:\\u002F\\u002Fwww.zhihu.com\\u002Fpeople\\u002F13ba78a859eaf6b9a5b27c5c56ee8419\",\"userType\":\"people\",\"headline\":\"less is more\",\"gender\":1,\"isAdvertiser\":false,\"badge\":[{\"type\":\"best_answerer\",\"description\":\"优秀答主\",\"topics\":[{\"id\":\"19554298\",\"type\":\"topic\",\"url\":\"https:\\u002F\\u002Fwww.zhihu.com\\u002Ftopic\\u002F19554298\",\"name\":\"编程\",\"avatarUrl\":\"https:\\u002F\\u002Fpic3.zhimg.com\\u002Fv2-27b8ba1e647956fa6f1a2a8ad90138ef_hd.jpg\"}]}],\"badgeV2\":{\"title\":\"知乎十年新知答主\",\"mergedBadges\":[{\"type\":\"best\",\"detailType\":\"best\",\"title\":\"新知答主\",\"description\":\"知乎十年新知答主\",\"url\":\"\",\"sources\":[],\"icon\":\"\",\"nightIcon\":\"\"}],\"detailBadges\":[{\"type\":\"reward\",\"detailType\":\"zhihu_10years_answerer\",\"title\":\"新知答主\",\"description\":\"知乎十年新知答主\",\"url\":\"\",\"sources\":[],\"icon\":\"https:\\u002F\\u002Fpic3.zhimg.com\\u002Fv2-bf0eec3c31c8e866c468f60eb296696c_l.png\",\"nightIcon\":\"https:\\u002F\\u002Fpic4.zhimg.com\\u002Fv2-c724649168d8f9d36d7c3d13140a2594_l.png\"},{\"type\":\"best\",\"detailType\":\"best_answerer\",\"title\":\"优秀答主\",\"description\":\"编程话题下的优秀答主\",\"url\":\"https:\\u002F\\u002Fwww.zhihu.com\\u002Ftopic\\u002F20054793\",\"sources\":[{\"id\":\"19554298\",\"token\":\"19554298\",\"type\":\"topic\",\"url\":\"https:\\u002F\\u002Fwww.zhihu.com\\u002Ftopic\\u002F19554298\",\"name\":\"编程\",\"avatarPath\":\"v2-27b8ba1e647956fa6f1a2a8ad90138ef\",\"avatarUrl\":\"https:\\u002F\\u002Fpic3.zhimg.com\\u002Fv2-27b8ba1e647956fa6f1a2a8ad90138ef_hd.jpg\",\"description\":\"\"}],\"icon\":\"https:\\u002F\\u002Fpic3.zhimg.com\\u002Fv2-bf0eec3c31c8e866c468f60eb296696c_l.png\",\"nightIcon\":\"https:\\u002F\\u002Fpic2.zhimg.com\\u002Fv2-c724649168d8f9d36d7c3d13140a2594_l.png\"}],\"icon\":\"https:\\u002F\\u002Fpic2.zhimg.com\\u002Fv2-bf0eec3c31c8e866c468f60eb296696c_l.png\",\"nightIcon\":\"https:\\u002F\\u002Fpic4.zhimg.com\\u002Fv2-c724649168d8f9d36d7c3d13140a2594_l.png\"}},\"thumbnail\":\"\",\"isCollapsed\":false,\"isCopyable\":true,\"isVisible\":true,\"isNormal\":true,\"voteupCount\":36641,\"commentCount\":2040,\"thanksCount\":2565,\"isMine\":false,\"commentPermission\":\"all\",\"reshipmentSettings\":\"allowed\",\"content\":\"\\u003Cp\\u003E会变得正常。\\u003C\\u002Fp\\u003E\\u003Cp\\u003E回到家的时候，天还没全黑，楼道里都是香气，有的人家炒鸡，有的人家烧鱼。吃了饭，还有时间遛遛弯，公园里爸爸在教孩子骑车，还有几个小孩拿着手电筒跑，光柱扫过树丛，叶子沙沙的响。\\u003C\\u002Fp\\u003E\\u003Cp\\u003E快递大概不会一天就到，app也没有那么多奇怪的功能，市中心的百货大楼也还没有倒掉，陡然富起来的人也没那么多。\\u003C\\u002Fp\\u003E\\u003Cp\\u003E还有时间约朋友打球，健完身也不必再回工位，有人来家里拜访也不会那么烦躁。\\u003C\\u002Fp\\u003E\\u003Cp\\u003E这就是996之前的生活。\\u003C\\u002Fp\\u003E\",\"title\":\"\",\"excerpt\":\"会变得正常。 回到家的时候，天还没全黑，楼道里都是香气，有的人家炒鸡，有的人家烧鱼。吃了饭，还有时间遛遛弯，公园里爸爸在教孩子骑车，还有几个小孩拿着手电筒跑，光柱扫过树丛，叶子沙沙的响。 快递大概不会一天就到，app也没有那么多奇怪的功能，市中心的百货大楼也还没有倒掉，陡然富起来的人也没那么多。 还有时间约朋友打球，健完身也不必再回工位，有人来家里拜访也不会那么烦躁。 这就是996之前的生活。\",\"suggestEdit\":{\"reason\":\"\",\"status\":false,\"tip\":\"\",\"title\":\"\",\"unnormalDetails\":{\"status\":\"\",\"description\":\"\",\"reason\":\"\",\"reasonId\":0,\"note\":\"\"},\"url\":\"\"},\"thumbnailInfo\":{\"count\":0,\"type\":\"\",\"thumbnails\":[]},\"relationship\":{\"isAuthor\":false,\"isAuthorized\":false,\"isNothelp\":false,\"isThanked\":false,\"voting\":0},\"attachment\":{\"type\":\"ANSWER\",\"attachmentId\":\"\"}}}],\"title\":\"我的收藏\",\"url\":\"https:\\u002F\\u002Fwww.zhihu.com\\u002Fapi\\u002Fv4\\u002Fcollections\\u002F51775253\",\"totalCount\":12187,\"creator\":{\"id\":\"78a2df75acfee79bee47fdc5b1f417f6\",\"urlToken\":\"fan-xue-gang\",\"name\":\"面壁者\",\"useDefaultAvatar\":false,\"avatarUrl\":\"https:\\u002F\\u002Fpic2.zhimg.com\\u002Fv2-3329aa6a838b5f2d1a2722ba0ebf41d0_l.jpg?source=2231c908\",\"avatarUrlTemplate\":\"https:\\u002F\\u002Fpic4.zhimg.com\\u002Fv2-3329aa6a838b5f2d1a2722ba0ebf41d0.jpg?source=2231c908\",\"isOrg\":false,\"type\":\"people\",\"url\":\"https:\\u002F\\u002Fwww.zhihu.com\\u002Fpeople\\u002F78a2df75acfee79bee47fdc5b1f417f6\",\"userType\":\"people\",\"headline\":\"知识产权法\",\"gender\":1,\"isAdvertiser\":false,\"badgeV2\":{\"title\":\"\",\"mergedBadges\":[],\"detailBadges\":[],\"icon\":\"\",\"nightIcon\":\"\"}},\"updatedTime\":1611626011,\"isFollowing\":false,\"followerCount\":397,\"isPublic\":true,\"type\":\"collection\",\"id\":51775253},\"145417966\":{\"favitems\":[{\"content\":{\"id\":143594726,\"type\":\"answer\",\"answerType\":\"\",\"url\":\"https:\\u002F\\u002Fwww.zhihu.com\\u002Fquestion\\u002F55254478\\u002Fanswer\\u002F143594726\",\"createdTime\":1485820936,\"updatedTime\":1485821582,\"question\":{\"type\":\"question\",\"id\":55254478,\"title\":\"美国陆军到底有没有实现完全机械化？\",\"questionType\":\"normal\",\"created\":1485808350,\"updatedTime\":1485809528,\"url\":\"https:\\u002F\\u002Fwww.zhihu.com\\u002Fquestion\\u002F55254478\"},\"author\":{\"id\":\"a53f25102f4ac98d02d88272d311b700\",\"urlToken\":\"suyicon\",\"name\":\"苏翻译\",\"useDefaultAvatar\":false,\"avatarUrl\":\"https:\\u002F\\u002Fpic4.zhimg.com\\u002Faaefb25e026394e192c4b2ac78eb8e0f_l.jpg?source=2231c908\",\"avatarUrlTemplate\":\"https:\\u002F\\u002Fpic1.zhimg.com\\u002Faaefb25e026394e192c4b2ac78eb8e0f.jpg?source=2231c908\",\"isOrg\":false,\"type\":\"people\",\"url\":\"https:\\u002F\\u002Fwww.zhihu.com\\u002Fpeople\\u002Fa53f25102f4ac98d02d88272d311b700\",\"userType\":\"people\",\"headline\":\"\",\"gender\":1,\"isAdvertiser\":false,\"badgeV2\":{\"title\":\"\",\"mergedBadges\":[],\"detailBadges\":[],\"icon\":\"\",\"nightIcon\":\"\"}},\"thumbnail\":\"\",\"isCollapsed\":false,\"isCopyable\":true,\"isVisible\":true,\"isNormal\":true,\"voteupCount\":561,\"commentCount\":35,\"thanksCount\":107,\"isMine\":false,\"commentPermission\":\"all\",\"reshipmentSettings\":\"allowed\",\"content\":\"1、这样讲，\\u003Cb\\u003E所谓“全面机械化”是一个苏联概念\\u003C\\u002Fb\\u003E，只有苏军，华约盟军和现在的俄军强调全面的、几乎不保留的地面部队机械化，原因是这些军队的预设作战场景单一且对机械化有较高要求。苏军甚至在轻步兵的传统领域诸如空降兵、空降强击兵和海军步兵内都实现全机械化。俄军的山地部队同样是全机械化的。\\u003Cbr\\u002F\\u003E相比之下，不能以苏俄军的标准定义美军的“全机械化”，因为美军在整个冷战还有现在都是将轻重部队混合的，而轻型部队往往是摩托化(或者是一度流行的直升机化)的，如冷战时期的空降师，空突师，轻步兵师，摩托化步兵师，现在的IBCT和空降IBCT。美军用轻重部队的搭配来应对不同的威胁。\\u003Cbr\\u002F\\u003E因此对美军不宜套用苏军式的“全面机械化=所有部队都是机械化部队”这样的定义，而应该有新阐释：“有机械化需求的部队完全实现了机械化”（这一点大约是跟苏军同时，在50年代末60年代初实现）。同样地，解放军现在的所谓“全面机械化”也是类似的概念，不过其之所以还没有完成，是因为很多有需求的部队（主要是北方部队）还没有实现机械化。\\u003Cbr\\u002F\\u003E\\u003Cbr\\u002F\\u003E2、在美军条令中，IBCT被定义为用于后方治安和保卫作战的部队，其战术机动能力比较差，不适合(像ABCT和SBCT那样)在良好地形下执行一线作战任务。然而IBCT的能力在美军中又是不可或缺的：\\u003Cbr\\u002F\\u003E（1）全地形机动力(在重、中型部队机动受限的地区有较好发挥)；\\u003Cbr\\u002F\\u003E（2）旅一级空中机动和空中突击能力(重型和中型部队仅有连级且不完整的能力)；\\u003Cbr\\u002F\\u003E（3）在复杂地形特别是大型、特大型城市中作战的能力（重型部队较差，中型部队还不错）；\\u003Cbr\\u002F\\u003E（4）两栖突击能力（重、中型单位均较差且需要大量保障力量）；\\u003Cbr\\u002F\\u003E（5）充当固定\\u002F机动防御力量（重、中型单位干这个浪费）。\\u003Cbr\\u002F\\u003EIBCT所独有的这些能力使其在美军中不可或缺。\\u003Cbr\\u002F\\u003E\\u003Cbr\\u002F\\u003E3、这还可以回滚到问题1：问题的症结是预设作战场景和要求。\\u003Cbr\\u002F\\u003E像苏军、华约军，其主要预设作战场景就是在平坦、水系丰富的东欧平原上，以高度集中的兵力兵器与北约打高烈度全面核战争。核生化的存在以及战争的高速度、高烈度性质使得苏军实现全机械化存在必要性；同样地，冷战时期部署在欧洲的美国第5、7军、预计增援西欧的美国第3军、国民警卫队的“北约任务”单位，除70年代之前的第8步兵师（机械化）第1旅（空降）之外，无不是全机械化的。可以说，冷战时期主要军事强国的机械化努力，都是基于这样一个预设作战空间和形式的。美军的轻型部队则会被投入到地形恶劣的丹麦、挪威。\\u003Cbr\\u002F\\u003E然而，除了这种作战之外，还存在多种多样的冲突形式：比如在复杂地形条件下的作战；比如面临治安事件-游击队-正规军的混合挑战，典型的就是越南战争。再这样的作战空间和形式下，机械化部队往往会有有心无力之感，在很多情况下必须需要轻步兵“把靴子踩在地上”才能解决问题。与此同时，机械化部队还面临战区机动力（全域投送力）这一挑战：美军一个重型师近6000辆机动车辆，想投送到任何一个全球热点地区都需要相当的时间，即便有了装备预置船、旅级战斗队改编、SBCT，也只是部分改善了这一问题。如果以全球范围作为预定作战地域，能够实现快速反应的仍然是最轻的摩托化步兵。因而从1958年开始至今，美军中的快速反应职责就由轻装单位担负。\\u003Cbr\\u002F\\u003E与之相对，苏联长期忽视或故意压制这种问题，因而直到阿富汗战争时期才发现早已身陷全军二十年来竟无一支专职山地战部队的窘境，被迫从头搞起，而且因为苏联解体，最后也没搞成。在南奥塞梯和克里米亚危机期间，俄军发现己方用来承担轻步兵职责的只有特种部队。这显然不是一件好事。\\u003Cbr\\u002F\\u003E再相比一下，解放军在50年代末期提出的全军摩托化和机械化方案是典型的苏式全机械化：没记错的话是要求到70年代末期，全军要由20%的装甲部队，50%的机械化部队和30%的摩托化部队组成。然而这一方案60年代初就遭到批判，除了现实条件根本达不到（这标准现在都没实现）之外，还有一个重要原因是因为中国面临的现实情况是南北地形差异很大，在当时基建很差的南方机械化和摩托化部队的机动都很成问题。所以我们可以看到，解放军部队长期分为南北两类，南方的机械化、摩托化进展比北方都要慢很多，直到98年南方基建水平显著提高，而且预定主要作战方向改变（由对苏改对台）之后南北才实现统一。80年代之后重提全军机械化，也是类似于美军的轻中重搭配的机械化，而不再提苏联式的完全机械化。\\u003Cbr\\u002F\\u003E正因为存在全地形、全类型作战、快速反应和全球投送的要求，以及意识到轻型部队所具有的独特能力，美军才会长期以来保持数量不少（1\\u002F3左右）的轻型部队；相比之下，俄军几乎没有这些要求，所以也几乎没有非机械化部队，不过是在个别摩步旅下属有一个狙击营（相当于我军定义中的摩托化步兵营，装备上类似IBCT的步兵营）而已；解放军介于美俄两军之间。\",\"title\":\"\",\"excerpt\":\"1、这样讲，所谓“全面机械化”是一个苏联概念，只有苏军，华约盟军和现在的俄军强调全面的、几乎不保留的地面部队机械化，原因是这些军队的预设作战场景单一且对机械化有较高要求。苏军甚至在轻步兵的传统领域诸如空降兵、空降强击兵和海军步兵内都实现全机械化。俄军的山地部队同样是全机械化的。 相比之下，不能以苏俄军的标准定义美军的“全机械化”，因为美军在整个冷战还有现在都是将轻重部队混合的，而轻型部队往往是摩托…\",\"suggestEdit\":{\"reason\":\"\",\"status\":false,\"tip\":\"\",\"title\":\"\",\"unnormalDetails\":{\"status\":\"\",\"description\":\"\",\"reason\":\"\",\"reasonId\":0,\"note\":\"\"},\"url\":\"\"},\"thumbnailInfo\":{\"count\":0,\"type\":\"\",\"thumbnails\":[]},\"relationship\":{\"isAuthor\":false,\"isAuthorized\":false,\"isNothelp\":false,\"isThanked\":false,\"voting\":0},\"attachment\":{\"type\":\"ANSWER\",\"attachmentId\":\"\"}}},{\"content\":{\"id\":402217518,\"type\":\"answer\",\"answerType\":\"\",\"url\":\"https:\\u002F\\u002Fwww.zhihu.com\\u002Fquestion\\u002F278542618\\u002Fanswer\\u002F402217518\",\"createdTime\":1527366122,\"updatedTime\":1527481482,\"question\":{\"type\":\"question\",\"id\":278542618,\"title\":\"为什么俄美欧武器名字都起的那么有气势，自己国家的反而无新意？\",\"questionType\":\"normal\",\"created\":1527215733,\"updatedTime\":1539913106,\"url\":\"https:\\u002F\\u002Fwww.zhihu.com\\u002Fquestion\\u002F278542618\"},\"author\":{\"id\":\"4ecc03fa2d3d70c61b210270750a4749\",\"urlToken\":\"WanPlusSW\",\"name\":\"框框框子\",\"useDefaultAvatar\":false,\"avatarUrl\":\"https:\\u002F\\u002Fpic2.zhimg.com\\u002Fv2-4796b08049605bf956e9f63becd0f920_l.jpg?source=2231c908\",\"avatarUrlTemplate\":\"https:\\u002F\\u002Fpic2.zhimg.com\\u002Fv2-4796b08049605bf956e9f63becd0f920.jpg?source=2231c908\",\"isOrg\":false,\"type\":\"people\",\"url\":\"https:\\u002F\\u002Fwww.zhihu.com\\u002Fpeople\\u002F4ecc03fa2d3d70c61b210270750a4749\",\"userType\":\"people\",\"headline\":\"约稿请加微信KKKZ5243\",\"gender\":0,\"isAdvertiser\":false,\"badgeV2\":{\"title\":\"\",\"mergedBadges\":[],\"detailBadges\":[],\"icon\":\"\",\"nightIcon\":\"\"}},\"thumbnail\":\"\",\"isCollapsed\":false,\"isCopyable\":false,\"isVisible\":true,\"isNormal\":true,\"voteupCount\":1648,\"commentCount\":192,\"thanksCount\":109,\"isMine\":false,\"commentPermission\":\"all\",\"reshipmentSettings\":\"need_payment\",\"content\":\"\\u003Cp\\u003E讲道理……\\u003C\\u002Fp\\u003E\\u003Cp\\u003E欧美武器名字有什么气势？就飞机还行，整天瞎鸡儿起代号，你提到的海军船就不提了，国外哪艘船的名字霸气了？\\u003C\\u002Fp\\u003E\\u003Cp\\u003E不都是以人名、地名命名的战舰么。\\u003C\\u002Fp\\u003E\\u003Cp\\u003E朱姆沃尔特、尼米兹、阿利伯克、斯普鲁恩斯，哪个不是海军的将军？提康德罗加、俄亥俄、弗吉尼亚、洛杉矶哪个不是地名？\\u003C\\u002Fp\\u003E\\u003Cp\\u003E欧洲就更不用说了，英国、德国也是数字编号，23型、26型、45型，F124、F125之类的，唯一有点诗意的勉强算是荷兰七省级（代表荷兰建国七省，类似于美国搞级战舰叫十三州级……），不还TM是个地名？\\u003C\\u002Fp\\u003E\\u003Cp\\u003E毛子也差不多。\\u003C\\u002Fp\\u003E\\u003Cp\\u003E一水的代号，22350、20380、21356、22800之类的。\\u003C\\u002Fp\\u003E\\u003Cp\\u003E飞机这玩意我不觉得中国的编号差到哪里去了，轰6叫战神，歼10叫猛龙，FC1叫枭龙，运20叫鲲鹏。\\u003C\\u002Fp\\u003E\\u003Cp\\u003E听起来还是很酷的。\\u003C\\u002Fp\\u003E\",\"title\":\"\",\"excerpt\":\"讲道理… 欧美武器名字有什么气势？就飞机还行，整天瞎鸡儿起代号，你提到的海军船就不提了，国外哪艘船的名字霸气了？ 不都是以人名、地名命名的战舰么。 朱姆沃尔特、尼米兹、阿利伯克、斯普鲁恩斯，哪个不是海军的将军？提康德罗加、俄亥俄、弗吉尼亚、洛杉矶哪个不是地名？ 欧洲就更不用说了，英国、德国也是数字编号，23型、26型、45型，F124、F125之类的，唯一有点诗意的勉强算是荷兰七省级（代表荷兰建国七省，类似于美…\",\"suggestEdit\":{\"reason\":\"\",\"status\":false,\"tip\":\"\",\"title\":\"\",\"unnormalDetails\":{\"status\":\"\",\"description\":\"\",\"reason\":\"\",\"reasonId\":0,\"note\":\"\"},\"url\":\"\"},\"thumbnailInfo\":{\"count\":0,\"type\":\"\",\"thumbnails\":[]},\"relationship\":{\"isAuthor\":false,\"isAuthorized\":false,\"isNothelp\":false,\"isThanked\":false,\"voting\":0},\"attachment\":{\"type\":\"ANSWER\",\"attachmentId\":\"\"}}}],\"title\":\"行业研究\",\"url\":\"https:\\u002F\\u002Fwww.zhihu.com\\u002Fapi\\u002Fv4\\u002Fcollections\\u002F145417966\",\"totalCount\":54082,\"creator\":{\"id\":\"78a2df75acfee79bee47fdc5b1f417f6\",\"urlToken\":\"fan-xue-gang\",\"name\":\"面壁者\",\"useDefaultAvatar\":false,\"avatarUrl\":\"https:\\u002F\\u002Fpic1.zhimg.com\\u002Fv2-3329aa6a838b5f2d1a2722ba0ebf41d0_l.jpg?source=2231c908\",\"avatarUrlTemplate\":\"https:\\u002F\\u002Fpic1.zhimg.com\\u002Fv2-3329aa6a838b5f2d1a2722ba0ebf41d0.jpg?source=2231c908\",\"isOrg\":false,\"type\":\"people\",\"url\":\"https:\\u002F\\u002Fwww.zhihu.com\\u002Fpeople\\u002F78a2df75acfee79bee47fdc5b1f417f6\",\"userType\":\"people\",\"headline\":\"知识产权法\",\"gender\":1,\"isAdvertiser\":false,\"badgeV2\":{\"title\":\"\",\"mergedBadges\":[],\"detailBadges\":[],\"icon\":\"\",\"nightIcon\":\"\"}},\"updatedTime\":1611632028,\"isFollowing\":false,\"followerCount\":2395,\"isPublic\":true,\"type\":\"collection\",\"id\":145417966}},\"columns\":{\"cuidaquan\":{\"updated\":1611553173,\"description\":\"117936202（微信QQ同号）\\n 在线咨询老师www.wodun.org\\n为你解答招生院校、专业，报考条件，报考流程，在职研究生政策等问题。\",\"columnType\":\"normal\",\"intro\":\"考研咨询微信：18061739794\",\"urlToken\":\"cuidaquan\",\"id\":\"cuidaquan\",\"articlesCount\":615,\"acceptSubmission\":true,\"title\":\"在职研究生\",\"url\":\"https:\\u002F\\u002Fzhuanlan.zhihu.com\\u002Fcuidaquan\",\"commentPermission\":\"all\",\"created\":1521104271,\"imageUrl\":\"https:\\u002F\\u002Fpic4.zhimg.com\\u002Fv2-c974454f8f054c67a0b938356b4142dc_b.jpg\",\"followers\":1580,\"type\":\"column\"},\"c_1052934733759131648\":{\"updated\":1599160963,\"description\":\"\",\"columnType\":\"normal\",\"intro\":\"半吊子系统和程序狗，沉迷高端理论，日渐消瘦。\",\"urlToken\":\"c_1052934733759131648\",\"id\":\"c_1052934733759131648\",\"articlesCount\":48,\"acceptSubmission\":true,\"title\":\"Vehicle攻城狮\",\"url\":\"https:\\u002F\\u002Fzhuanlan.zhihu.com\\u002Fc_1052934733759131648\",\"commentPermission\":\"all\",\"created\":1543819203,\"imageUrl\":\"https:\\u002F\\u002Fpic4.zhimg.com\\u002Fv2-99f97b1e106fdd41061d3e33284a1745_b.jpg\",\"followers\":1656,\"type\":\"column\"},\"investmentclub\":{\"updated\":1591396182,\"description\":\"入群请加助理微信：zhuliqiqi7\",\"columnType\":\"normal\",\"intro\":\"公众号：交易法门\",\"urlToken\":\"investmentclub\",\"id\":\"investmentclub\",\"articlesCount\":365,\"acceptSubmission\":false,\"title\":\"交易法门\",\"url\":\"https:\\u002F\\u002Fzhuanlan.zhihu.com\\u002Finvestmentclub\",\"commentPermission\":\"all\",\"created\":1510726895,\"imageUrl\":\"https:\\u002F\\u002Fpic4.zhimg.com\\u002Fv2-e11f6dd8eeee14d452cf4129eaf7ce36_b.jpg\",\"followers\":11711,\"type\":\"column\"},\"cmerkm\":{\"updated\":1599163813,\"description\":\"愿你有一颗热爱生活的心和一双不老的眼睛！\",\"columnType\":\"normal\",\"intro\":\"眼睛纯净,才能看见美丽未来\",\"urlToken\":\"cmerkm\",\"id\":\"cmerkm\",\"articlesCount\":516,\"acceptSubmission\":true,\"title\":\"爱生活爱眼睛\",\"url\":\"https:\\u002F\\u002Fzhuanlan.zhihu.com\\u002Fcmerkm\",\"commentPermission\":\"all\",\"created\":1556433688,\"imageUrl\":\"https:\\u002F\\u002Fpic3.zhimg.com\\u002Fv2-2a13deb521279f8a3f23d63e9d503560_b.jpg\",\"followers\":854,\"type\":\"column\"}}},\"articles\":{\"voters\":{}},\"favlists\":{\"relations\":{}},\"pins\":{\"reviewing\":{}},\"topstory\":{\"recommend\":{\"isFetching\":false,\"isDrained\":false,\"afterId\":0,\"items\":[],\"next\":null},\"follow\":{\"isFetching\":false,\"isDrained\":false,\"afterId\":0,\"items\":[],\"next\":null},\"room\":{\"meta\":{},\"isFetching\":false,\"afterId\":0,\"items\":[],\"next\":null},\"followWonderful\":{\"isFetching\":false,\"isDrained\":false,\"afterId\":0,\"items\":[],\"next\":null},\"sidebar\":null,\"announcement\":{},\"hotListCategories\":[],\"hotList\":[],\"guestFeeds\":{\"isFetching\":false,\"isDrained\":false,\"afterId\":0,\"items\":[],\"next\":null},\"followExtra\":{\"isNewUser\":null,\"isFetched\":false,\"followCount\":0,\"followers\":[]},\"hotDaily\":{\"data\":[],\"paging\":{}},\"hotHighlight\":{\"isFetching\":false,\"isDrained\":false,\"data\":[],\"paging\":{}}},\"upload\":{},\"video\":{\"data\":{},\"shareVideoDetail\":{},\"last\":{}},\"zvideos\":{\"campaigns\":{},\"tagoreCategory\":[],\"recommendations\":{},\"insertable\":{},\"recruit\":{\"form\":{\"platform\":\"\",\"nickname\":\"\",\"followerCount\":\"\",\"domain\":\"\",\"contact\":\"\"},\"submited\":false,\"ranking\":[]},\"club\":{}},\"guide\":{\"guide\":{\"isFetching\":false,\"isShowGuide\":false}},\"reward\":{\"answer\":{},\"article\":{},\"question\":{}},\"search\":{\"recommendSearch\":[],\"topSearch\":{},\"searchValue\":{},\"suggestSearch\":{},\"attachedInfo\":{},\"nextOffset\":{},\"topicReview\":{},\"generalByQuery\":{},\"generalByQueryInADay\":{},\"generalByQueryInAWeek\":{},\"generalByQueryInThreeMonths\":{},\"peopleByQuery\":{},\"clubentityByQuery\":{},\"clubPostByQuery\":{},\"topicByQuery\":{},\"columnByQuery\":{},\"liveByQuery\":{},\"albumByQuery\":{},\"eBookByQuery\":{},\"kmGeneralByQuery\":{}},\"publicEditPermission\":{},\"vessay\":{\"blockUnload\":true,\"trackData\":{\"videoTrack\":[],\"audioTrack\":[],\"subtitleTrack\":[]},\"tracks\":[],\"materialLib\":{\"isLoading\":true,\"data\":[],\"paging\":{\"isEnd\":false}},\"playerStatus\":{\"currentTime\":0,\"totalTime\":0,\"inited\":false,\"playing\":false},\"baiduAI\":{\"accessToken\":null}},\"vessayLoading\":{\"isLoading\":false,\"text\":\"\"},\"readStatus\":{},\"draftHistory\":{\"history\":{},\"drafts\":{}},\"notifications\":{\"recent\":{\"isFetching\":false,\"isDrained\":false,\"isPrevDrained\":false,\"result\":[],\"next\":null,\"key\":null},\"history\":{\"isFetching\":false,\"isDrained\":false,\"isPrevDrained\":false,\"result\":[],\"next\":null,\"key\":null},\"notificationActors\":{\"isFetching\":false,\"isDrained\":false,\"isPrevDrained\":false,\"result\":[],\"next\":null,\"key\":null},\"recentNotificationEntry\":\"all\"},\"specials\":{\"entities\":{},\"all\":{\"data\":[],\"paging\":{},\"isLoading\":false}},\"collections\":{\"hot\":{\"data\":[],\"paging\":{},\"isLoading\":false},\"collectionFeeds\":{}},\"userProfit\":{\"permission\":{\"permissionStatus\":{\"zhiZixuan\":0,\"recommend\":-1,\"task\":0,\"plugin\":0},\"visible\":false}},\"mcn\":{\"bindInfo\":{},\"memberCategoryList\":[],\"producerList\":[],\"categoryList\":[],\"lists\":{},\"banners\":{},\"protocolStatus\":{\"isAgreedNew\":true,\"isAgreedOld\":true},\"probationCountdownDays\":0},\"mcnActivity\":{\"household\":{\"products\":{},\"rankList\":{\"total\":{},\"yesterday\":{}}}},\"brand\":{\"contentPlugin\":{}},\"host\":{\"roundtable\":{\"subjects\":{},\"applications\":{\"total\":0},\"online\":{\"total\":0},\"applies\":{},\"details\":{},\"includedResource\":{},\"hotQuestions\":{},\"warmupContents\":{},\"batchInclude\":{}},\"special\":{\"applications\":{\"total\":0,\"pages\":{},\"entities\":{}},\"censorHistory\":{},\"drafts\":{}}},\"campaign\":{\"single\":{},\"list\":{},\"videoMakerAcq\":{},\"vote\":{},\"cardCollecting\":{\"message\":null,\"profile\":{\"balance\":\"0\",\"chance\":0,\"coinNum\":0,\"gatherClose\":false,\"isGotMagicCard\":false,\"isPay\":false,\"partitionStart\":false,\"totalDone\":0,\"withdrawStart\":false},\"sharePoster\":{\"share\":\"\",\"sendCard\":\"\",\"invite\":\"\"},\"shareLink\":null,\"shareIntention\":\"share\",\"shareKey\":null,\"shareCardId\":null,\"inviterInfo\":null,\"giverInfo\":null,\"prize\":null,\"receivedCard\":null,\"newCoinCount\":null,\"newCardList\":[],\"newUserCardCount\":1,\"taskList\":[],\"prizeList\":null,\"cardList\":null,\"panel\":{\"showTaskPanel\":false,\"showRewardPanel\":false},\"modal\":{\"showWelcomeModal\":false,\"showFusionModal\":false,\"showFusionPromptModal\":false,\"showShareModal\":false,\"showBackModal\":false}},\"zhiboPandian2020\":null},\"knowledgePlan\":{\"lists\":{},\"allCreationRankList\":{},\"featuredQuestions\":{}},\"wallE\":{\"protectHistory\":{\"total\":0,\"pages\":{},\"entities\":{}}},\"roundtables\":{\"hotQuestions\":{},\"warmupContents\":{},\"hotDiscussions\":{},\"selectedContents\":{},\"roundtables\":{}},\"helpCenter\":{\"entities\":{\"question\":{},\"category\":{}},\"categories\":[],\"commonQuestions\":[],\"relatedQuestions\":{}},\"republish\":{},\"commercialReport\":{\"commercialTypes\":[]},\"creatorMCN\":{\"mcn\":{},\"mcnStatistics\":{},\"isNoAuth\":false,\"creatorManageData\":[],\"creatorManageDataTotal\":1,\"mcnDomains\":[]}},\"subAppName\":\"main\"}</script><script src=\"https://static.zhihu.com/heifetz/vendor.8d94b1270b86debd0e1c.js\"></script><script src=\"https://static.zhihu.com/heifetz/main.app.c95a979bcad085dee72e.js\"></script><script src=\"https://static.zhihu.com/heifetz/main.explore-routes.73ead36cfda19ae1f076.js\"></script></body><script async=\"\" src=\"https://hm.baidu.com/hm.js?98beee57fd2ef70ccdd5ca52b9740c49\"></script></html>\n<class 'bs4.BeautifulSoup'>\n"
     ]
    }
   ],
   "source": [
    "soup = BeautifulSoup(response)\n",
    "print(soup)\n",
    "print(type(soup))"
   ]
  },
  {
   "cell_type": "code",
   "execution_count": 13,
   "metadata": {},
   "outputs": [
    {
     "output_type": "stream",
     "name": "stdout",
     "text": [
      "為什麼要使用 BeatifulSoup 處理？ => 資料比較好整理\n處理後的型態是什麼？ => class \"bs4.BeautifulSoup\"\n"
     ]
    }
   ],
   "source": [
    "print('為什麼要使用 BeatifulSoup 處理？ => 資料比較好整理\\n處理後的型態是什麼？ => class \"bs4.BeautifulSoup\"')"
   ]
  },
  {
   "cell_type": "markdown",
   "metadata": {},
   "source": [
    "### 2. 知乎： https://www.zhihu.com/explore"
   ]
  },
  {
   "cell_type": "code",
   "execution_count": 14,
   "metadata": {},
   "outputs": [
    {
     "output_type": "stream",
     "name": "stdout",
     "text": [
      "<html>\n<head><title>403 Forbidden</title></head>\n<body bgcolor=\"white\">\n<center><h1>403 Forbidden</h1></center>\n<hr><center>openresty</center>\n</body>\n</html>\n\n"
     ]
    }
   ],
   "source": [
    "url = 'https://www.zhihu.com/explore'\n",
    "r = requests.get(url)\n",
    "r.encoding = 'utf-8'\n",
    "\n",
    "print(r.text[0:600])"
   ]
  },
  {
   "cell_type": "markdown",
   "metadata": {},
   "source": [
    "### 3. 觀察一下知乎回來的資料好像有點怪怪的，該怎麼解決？  \n",
    "Ans: 加入 header"
   ]
  },
  {
   "cell_type": "code",
   "execution_count": 16,
   "metadata": {},
   "outputs": [
    {
     "output_type": "stream",
     "name": "stdout",
     "text": [
      "<!doctype html>\n<html lang=\"zh\" data-hairline=\"true\" data-theme=\"light\"><head><meta charSet=\"utf-8\"/><title data-react-helmet=\"true\">发现 - 知乎</title><meta name=\"viewport\" content=\"width=device-width,initial-scale=1,maximum-scale=1\"/><meta name=\"renderer\" content=\"webkit\"/><meta name=\"force-rendering\" content=\"webkit\"/><meta http-equiv=\"X-UA-Compatible\" content=\"IE=edge,chrome=1\"/><meta name=\"google-site-verification\" content=\"FTeR0c8arOPKh8c5DYh_9uu98_zJbaWw53J-Sch9MTg\"/><meta name=\"description\" property=\"og:description\" content=\"知乎，中文互联网最大的问答社区和创作者聚集的原创内容平台，于 2011 年 1 月正式上线，以「让人们更好地分享知识、经验和见解，\n"
     ]
    }
   ],
   "source": [
    "import requests\n",
    "url = 'https://www.zhihu.com/explore'\n",
    "\n",
    "'''\n",
    "Your Code Here\n",
    "'''\n",
    "headers = {'user-agent': 'my-app/0.0.1'}\n",
    "r = requests.get(url,headers=headers)\n",
    "r.encoding = 'utf-8'\n",
    "response = r.text\n",
    "print(response[0:600])"
   ]
  }
 ],
 "metadata": {
  "kernelspec": {
   "display_name": "Python 3",
   "language": "python",
   "name": "python3"
  },
  "language_info": {
   "codemirror_mode": {
    "name": "ipython",
    "version": 3
   },
   "file_extension": ".py",
   "mimetype": "text/x-python",
   "name": "python",
   "nbconvert_exporter": "python",
   "pygments_lexer": "ipython3",
   "version": "3.7.9-final"
  }
 },
 "nbformat": 4,
 "nbformat_minor": 2
}