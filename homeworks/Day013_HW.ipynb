{
 "cells": [
  {
   "cell_type": "markdown",
   "metadata": {},
   "source": [
    "# PTT 網路爬蟲實作練習\n",
    "\n",
    "\n",
    "* 能夠利用 Request + BeatifulSour 撰寫爬蟲，並存放到合適的資料結構\n"
   ]
  },
  {
   "cell_type": "markdown",
   "metadata": {},
   "source": [
    "## 作業目標\n",
    "\n",
    "根據範例 ，完成以下問題：\n",
    "\n",
    "* ① 印出最新文章的「作者」「標題」「時間」\n",
    "* ② 印出第一頁所有文章的「作者」「標題」「時間」\n"
   ]
  },
  {
   "cell_type": "code",
   "execution_count": 1,
   "metadata": {},
   "outputs": [],
   "source": [
    "import requests\n",
    "from bs4 import BeautifulSoup"
   ]
  },
  {
   "cell_type": "markdown",
   "metadata": {},
   "source": [
    "### ① 印出最新文章的「作者」「標題」「時間」"
   ]
  },
  {
   "cell_type": "code",
   "execution_count": 2,
   "metadata": {},
   "outputs": [],
   "source": [
    "url = \"https://www.ptt.cc/bbs/NBA/index.html\"\n",
    "\n",
    "r = requests.get(url)\n",
    "soup = BeautifulSoup(r.text, \"html.parser\")"
   ]
  },
  {
   "cell_type": "code",
   "execution_count": 35,
   "metadata": {},
   "outputs": [
    {
     "output_type": "stream",
     "name": "stdout",
     "text": [
      "作者：JessVeron\n標題：Re: [花邊] Nash：我認為技巧上KI強於AI，但AI有他\n時間：2/07\n\n作者：koko0123\n標題：[討論]Allen iverson 和Kyrie Irving數據比較\n時間：2/07\n\n作者：Rambo\n標題：[BOX ] Nets 108:124 Sixers 數據\n時間：2/07\n\n作者：kuaiphoto\n標題：[情報] Rose跟活塞雙方同意透過交易分開\n時間：2/07\n\n作者：ppu12372\n標題：[討論] 球哥這球算不算惡犯??\n時間：2/07\n\n作者：Rambo\n標題：[BOX ] Bucks 124:99 Cavaliers 數據\n時間：2/07\n\n作者：Rambo\n標題：[BOX ] Raptors 121:132 Hawks 數據\n時間：2/07\n\n作者：Rambo\n標題：[BOX ] Spurs 111:106 Rockets 數據\n時間：2/07\n\n作者：Rambo\n標題：[BOX ] Timberwolves 118:120 Thunder 數據\n時間：2/07\n\n作者：hoodlumpow\n標題：Re: [情報] 國王近7戰6勝，媒體總結期間三大主要\n時間：2/07\n\n作者：Rambo\n標題：[BOX ] Warriors 132:134 Mavericks 數據\n時間：2/07\n\n作者：XperiaZ6C\n標題：[新聞] 倒楣！KD開車載確診的籃網員工　確定要\n時間：2/07\n\n作者：Rambo\n標題：[BOX ] Grizzlies 109:118 Pelicans 數據\n時間：2/07\n\n作者：avrild12\n標題：[情報] Curry與Joker兩人同日50分輸球\n時間：2/07\n\n作者：wwf1588\n標題：[花邊] 格林：有一位超巨身材走樣，原因我能理\n時間：2/07\n\n作者：Rambo\n標題：[BOX ] Pistons 129:135 Lakers 數據\n時間：2/07\n\n作者：guardyo\n標題：[情報] NBA Standings (Feb. 07, 2021)\n時間：2/07\n\n作者：xxxx5566\n標題：[新聞] 2度延長甩開活塞 詹姆斯率湖人驚險\n時間：2/07\n\n作者：Vedan\n標題：[公告] 板規v6.8\n時間：5/24\n\n作者：laigei\n標題：[情報] 2020-21 自由球員市場異動 (表格)(12/10)\n時間：1/19\n\n作者：laigei\n標題：[情報] 2020-21 自由球員市場異動 (每日文字)  \n時間：1/19\n\n作者：laptic\n標題：[情報] SEASON Schedule 賽程 February 20–21\n時間：1/29\n\n"
     ]
    }
   ],
   "source": [
    "num = len(soup.find_all(class_='author'))\n",
    "for i in range(num):\n",
    "    author = soup.find_all(class_='author')[i].text\n",
    "    title = soup.find_all(class_='title')[i].text[1:-1]\n",
    "    date = soup.find_all(class_='date')[i].text[1:]\n",
    "    print(f\"作者：{author}\\n標題：{title}\\n時間：{date}\\n\")"
   ]
  },
  {
   "cell_type": "markdown",
   "metadata": {},
   "source": [
    "### ② 印出第一頁所有文章的「作者」「標題」「時間」"
   ]
  },
  {
   "cell_type": "code",
   "execution_count": 36,
   "metadata": {},
   "outputs": [],
   "source": [
    "url = \"https://www.ptt.cc/bbs/NBA/index1.html\"\n",
    "r = requests.get(url)\n",
    "soup = BeautifulSoup(r.text, \"html.parser\")"
   ]
  },
  {
   "cell_type": "code",
   "execution_count": 37,
   "metadata": {},
   "outputs": [
    {
     "output_type": "stream",
     "name": "stdout",
     "text": [
      "作者：Price\n標題：[轉錄]Lyotard 對於太陽板討論串的結論\n時間：5/16\n\n作者：Price\n標題：[公告] 請停止一切關於本次活動的發言\n時間：5/31\n\n作者：Frankaze\n標題：[轉錄]跟之前那篇比起來 我覺得這篇也應該轉過來\n時間：6/08\n\n作者：Frankaze\n標題：[轉錄]再轉一篇好文來\n時間：6/08\n\n作者：Price\n標題：[轉錄][情報] 夏洛特山貓系列\n時間：6/10\n\n作者：Price\n標題：[轉錄]Re: [心得] 真是受不了糗爺....\n時間：6/10\n\n作者：Price\n標題：[轉錄]總冠軍賽NO.2觀後感\n時間：6/10\n\n作者：AmuroNamie\n標題：[心得] Rasheed Wallace\n時間：6/11\n\n作者：toptree\n標題：掌控球賽的男人\n時間：6/12\n\n作者：skchang\n標題：[閒聊] 說說2004季後賽名場面回顧\n時間：6/12\n\n作者：shineup\n標題：[心得] 其實說穿了 就是活塞的防守太可怕了\n時間：6/12\n\n作者：cOvi\n標題：Re: [閒聊] 說說2004季後賽名場面回顧\n時間：6/12\n\n作者：ykshih\n標題：Re: [閒聊] 說說2004季後賽名場面回顧\n時間：6/12\n\n作者：Frankaze\n標題：Re: [閒聊] 說說2004季後賽名場面回顧\n時間：6/12\n\n作者：Price\n標題：[轉錄]Re: 總冠軍賽NO.3觀後感\n時間：6/14\n\n作者：Frankaze\n標題：[轉錄]Re: 總冠軍賽NO.3觀後感\n時間：6/14\n\n作者：star1\n標題：Re: [轉錄]Re: 總冠軍賽NO.3觀後感\n時間：6/14\n\n作者：coldspring\n標題：Re: [轉錄]Re: 總冠軍賽NO.3觀後感\n時間：6/14\n\n作者：airbear\n標題：Re: Kobe is frustrated...\n時間：6/14\n\n作者：pennykidd\n標題：Re: [轉錄]Re: 總冠軍賽NO.3觀後感\n時間：6/14\n\n"
     ]
    }
   ],
   "source": [
    "num = len(soup.find_all(class_='author'))\n",
    "for i in range(num):\n",
    "    author = soup.find_all(class_='author')[i].text\n",
    "    title = soup.find_all(class_='title')[i].text[1:-1]\n",
    "    date = soup.find_all(class_='date')[i].text[1:]\n",
    "    print(f\"作者：{author}\\n標題：{title}\\n時間：{date}\\n\")"
   ]
  },
  {
   "cell_type": "markdown",
   "metadata": {},
   "source": [
    "### ③ 試著爬爬看其他版的文章"
   ]
  },
  {
   "cell_type": "code",
   "execution_count": 38,
   "metadata": {},
   "outputs": [],
   "source": [
    "url = \"https://www.ptt.cc/bbs/joke/index.html\"\n",
    "r = requests.get(url)\n",
    "soup = BeautifulSoup(r.text, \"html.parser\")"
   ]
  },
  {
   "cell_type": "code",
   "execution_count": 39,
   "metadata": {},
   "outputs": [
    {
     "output_type": "stream",
     "name": "stdout",
     "text": [
      "作者：l26873169\n標題：[趣事] 剛剛看到某影片的廣告\n時間：2/07\n\n作者：XXXXHAY\n標題：[猜謎] 台灣最火紅的樂團\n時間：2/07\n\n作者：c8c8c8c8c8c8\n標題：[影音] 翁立友記者會(小尾巴)\n時間：2/07\n\n作者：eyck\n標題：[ＸＤ] 昨晚誰在享受交響樂\n時間：2/07\n\n作者：eyck\n標題：[耍冷] 有一年夏天…\n時間：2/07\n\n作者：g8956956\n標題：[趣圖] 有趣分享集（2-7）\n時間：2/07\n\n作者：Dolphinku\n標題：[趣事] 出事了阿北...阿北\n時間：2/07\n\n作者：ddd123\n標題：Re: [ＸＤ] 我可以跟你的動物講話嗎？\n時間：2/07\n\n作者：nighthunt\n標題：Re: [猜謎] 全球最大的公園？\n時間：2/07\n\n作者：RockCat0218\n標題：[公告] joke板規（2020/10/07 更新）\n時間：0/07\n\n作者：RockCat0218\n標題：[閒聊] 就可溫馨置底閒聊列車\n時間：2/01\n\n"
     ]
    }
   ],
   "source": [
    "num = len(soup.find_all(class_='author'))\n",
    "for i in range(num):\n",
    "    author = soup.find_all(class_='author')[i].text\n",
    "    title = soup.find_all(class_='title')[i].text[1:-1]\n",
    "    date = soup.find_all(class_='date')[i].text[1:]\n",
    "    print(f\"作者：{author}\\n標題：{title}\\n時間：{date}\\n\")"
   ]
  },
  {
   "cell_type": "code",
   "execution_count": null,
   "metadata": {},
   "outputs": [],
   "source": []
  }
 ],
 "metadata": {
  "kernelspec": {
   "display_name": "Python 3",
   "language": "python",
   "name": "python3"
  },
  "language_info": {
   "codemirror_mode": {
    "name": "ipython",
    "version": 3
   },
   "file_extension": ".py",
   "mimetype": "text/x-python",
   "name": "python",
   "nbconvert_exporter": "python",
   "pygments_lexer": "ipython3",
   "version": "3.7.9-final"
  }
 },
 "nbformat": 4,
 "nbformat_minor": 2
}