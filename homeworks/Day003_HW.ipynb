{
 "cells": [
  {
   "cell_type": "markdown",
   "metadata": {},
   "source": [
    "# Python 下載XML檔案與解析\n",
    "\n",
    "\n",
    "* 了解 xml 檔案格式與內容\n",
    "* 能夠利用套件存取 xml 格式的檔案\n"
   ]
  },
  {
   "cell_type": "markdown",
   "metadata": {},
   "source": [
    "## 作業目標\n",
    "\n",
    "* 比較一下範例檔案中的「File I/O」與「xmltodict」讀出來的內容有什麼差異\n",
    "\n",
    "* 根據範例檔案的結果：\n",
    "    1. 請問高雄市有多少地區有溫度資料？\n",
    "    2. 請取出每一個地區所記錄的第一個時間點跟溫度\n",
    "    3. 請取出第一個地區所記錄的每一個時間點跟溫度"
   ]
  },
  {
   "cell_type": "markdown",
   "metadata": {},
   "source": [
    "### 比較一下範例檔案中的「File I/O」與「xmltodict」讀出來的內容有什麼差異\n"
   ]
  },
  {
   "cell_type": "code",
   "execution_count": 1,
   "metadata": {},
   "outputs": [],
   "source": [
    "'''\n",
    "Your Code\n",
    "'''\n",
    "import urllib.request\n",
    "import zipfile\n",
    "\n",
    "res = \"http://opendata.cwb.gov.tw/govdownload?dataid=F-D0047-093&authorizationkey=rdec-key-123-45678-011121314\"\n",
    "urllib.request.urlretrieve(res, \"./data/example.zip\")\n",
    "f = zipfile.ZipFile('./data/example.zip')\n",
    "f.extractall('./data')"
   ]
  },
  {
   "cell_type": "code",
   "execution_count": 2,
   "metadata": {},
   "outputs": [
    {
     "output_type": "stream",
     "name": "stdout",
     "text": [
      "66_Week24_EN.xml\n68_Week24_CH.xml\n67_Weekday_EN.xml\n65_Weekday_CH.xml\n09020_72hr_CH.xml\n10002_72hr_EN.xml\nexample.zip\n10017_72hr_EN.xml\n10014_Week24_EN.xml\n67_72hr_EN.xml\n10008_72hr_CH.xml\nTAIWAN_72hr_EN.xml\n10009_Week24_CH.xml\n10007_Week24_EN.xml\n10010_Week24_EN.xml\n09007_72hr_CH.xml\n10014_72hr_CH.xml\n68_Weekday_EN.xml\n64_72hr_CH.xml\n10017_Week24_EN.xml\n10020_Week24_CH.xml\nexample.csv\n10013_Week24_EN.xml\n10004_Week24_EN.xml\n10020_Weekday_EN.xml\n63_Weekday_CH.xml\n10020_72hr_EN.xml\n65_Week24_EN.xml\n09020_Weekday_EN.xml\n10004_72hr_CH.xml\n10018_72hr_CH.xml\n66_Weekday_EN.xml\n10007_72hr_EN.xml\n68_72hr_CH.xml\nTAIWAN_Week24_EN.xml\n64_Weekday_CH.xml\n65_Week24_CH.xml\n09020_Weekday_CH.xml\n10004_72hr_EN.xml\n66_Weekday_CH.xml\n10018_72hr_EN.xml\n10007_72hr_CH.xml\n68_72hr_EN.xml\nTAIWAN_Week24_CH.xml\n64_Weekday_EN.xml\n10017_Week24_CH.xml\n10020_Week24_EN.xml\nHomework.txt\n10013_Week24_CH.xml\n10020_Weekday_CH.xml\n10004_Week24_CH.xml\n10020_72hr_CH.xml\n63_Weekday_EN.xml\n10014_Week24_CH.xml\n10017_72hr_CH.xml\n67_72hr_CH.xml\n10008_72hr_EN.xml\nTAIWAN_72hr_CH.xml\n10007_Week24_CH.xml\n10009_Week24_EN.xml\n09007_72hr_EN.xml\n10010_Week24_CH.xml\n10014_72hr_EN.xml\n68_Weekday_CH.xml\n64_72hr_EN.xml\n68_Week24_EN.xml\n66_Week24_CH.xml\n67_Weekday_CH.xml\n65_Weekday_EN.xml\n09020_72hr_EN.xml\n10002_72hr_CH.xml\n10007_Weekday_CH.xml\n10005_Weekday_EN.xml\n10008_Week24_EN.xml\n10010_Weekday_EN.xml\n10018_Weekday_EN.xml\n10002_Week24_CH.xml\n10005_72hr_CH.xml\n10015_Week24_CH.xml\n09020_Week24_CH.xml\n10010_72hr_CH.xml\nfile.csv\n10015_Weekday_CH.xml\n10017_Weekday_EN.xml\n10002_Weekday_EN.xml\n63_Week24_CH.xml\n09007_Weekday_CH.xml\n10008_Weekday_CH.xml\n10013_72hr_EN.xml\n63_72hr_EN.xml\n67_Week24_CH.xml\n65_72hr_CH.xml\n10015_72hr_CH.xml\n10009_Weekday_CH.xml\n10014_Weekday_CH.xml\n10009_72hr_CH.xml\n66_72hr_EN.xml\nTAIWAN_Weekday_CH.xml\n10016_72hr_EN.xml\nmanifest.csv\n64_Week24_CH.xml\n10016_Weekday_EN.xml\n09007_Week24_EN.xml\n10005_Week24_CH.xml\n10013_Weekday_CH.xml\n10016_Week24_CH.xml\n10018_Week24_EN.xml\n10004_Weekday_EN.xml\nschema-file.csv\n09007_Week24_CH.xml\n10005_Week24_EN.xml\n10013_Weekday_EN.xml\n10018_Week24_CH.xml\n10004_Weekday_CH.xml\n10016_Week24_EN.xml\n65_72hr_EN.xml\n10009_Weekday_EN.xml\n10015_72hr_EN.xml\n10014_Weekday_EN.xml\n10009_72hr_EN.xml\nTAIWAN_Weekday_EN.xml\n66_72hr_CH.xml\n10016_72hr_CH.xml\n64_Week24_EN.xml\n10016_Weekday_CH.xml\n10010_72hr_EN.xml\n10015_Weekday_EN.xml\n10002_Weekday_CH.xml\n10017_Weekday_CH.xml\n63_Week24_EN.xml\n10008_Weekday_EN.xml\n09007_Weekday_EN.xml\n10013_72hr_CH.xml\n63_72hr_CH.xml\n67_Week24_EN.xml\n10007_Weekday_EN.xml\n10010_Weekday_CH.xml\n10005_Weekday_CH.xml\n10008_Week24_CH.xml\n10018_Weekday_CH.xml\n10002_Week24_EN.xml\n10005_72hr_EN.xml\n10015_Week24_EN.xml\n09020_Week24_EN.xml\n"
     ]
    }
   ],
   "source": [
    "import os, sys\n",
    "\n",
    "# 打开文件\n",
    "dirs = os.listdir( './data' )\n",
    "\n",
    "# 输出所有文件和文件夹\n",
    "for file in dirs:\n",
    "    print(file)"
   ]
  },
  {
   "cell_type": "code",
   "execution_count": 3,
   "metadata": {
    "tags": [
     "outputPrepend"
    ]
   },
   "outputs": [
    {
     "output_type": "stream",
     "name": "stdout",
     "text": [
      "+08:00</dataTime>\n            <elementValue>\n              <value>22</value>\n              <measures>攝氏度</measures>\n            </elementValue>\n          </time>\n          <time>\n            <dataTime>2021-01-20T15:00:00+08:00</dataTime>\n            <elementValue>\n              <value>20</value>\n              <measures>攝氏度</measures>\n            </elementValue>\n          </time>\n          <time>\n            <dataTime>2021-01-20T18:00:00+08:00</dataTime>\n            <elementValue>\n              <value>15</value>\n              <measures>攝氏度</measures>\n            </elementValue>\n          </time>\n          <time>\n            <dataTime>2021-01-20T21:00:00+08:00</dataTime>\n            <elementValue>\n              <value>14</value>\n              <measures>攝氏度</measures>\n            </elementValue>\n          </time>\n          <time>\n            <dataTime>2021-01-21T00:00:00+08:00</dataTime>\n            <elementValue>\n              <value>12</value>\n              <measures>攝氏度</measures>\n            </elementValue>\n          </time>\n          <time>\n            <dataTime>2021-01-21T03:00:00+08:00</dataTime>\n            <elementValue>\n              <value>12</value>\n              <measures>攝氏度</measures>\n            </elementValue>\n          </time>\n          <time>\n            <dataTime>2021-01-21T06:00:00+08:00</dataTime>\n            <elementValue>\n              <value>12</value>\n              <measures>攝氏度</measures>\n            </elementValue>\n          </time>\n          <time>\n            <dataTime>2021-01-21T09:00:00+08:00</dataTime>\n            <elementValue>\n              <value>17</value>\n              <measures>攝氏度</measures>\n            </elementValue>\n          </time>\n        </weatherElement>\n        <weatherElement>\n          <elementName>Wx</elementName>\n          <description>天氣現象</description>\n          <time>\n            <startTime>2021-01-18T12:00:00+08:00</startTime>\n            <endTime>2021-01-18T15:00:00+08:00</endTime>\n            <elementValue>\n              <value>多雲</value>\n              <measures>自定義 Wx 文字</measures>\n            </elementValue>\n            <elementValue>\n              <value>04</value>\n              <measures>自定義 Wx 單位</measures>\n            </elementValue>\n          </time>\n          <time>\n            <startTime>2021-01-18T15:00:00+08:00</startTime>\n            <endTime>2021-01-18T18:00:00+08:00</endTime>\n            <elementValue>\n              <value>多雲</value>\n              <measures>自定義 Wx 文字</measures>\n            </elementValue>\n            <elementValue>\n              <value>04</value>\n              <measures>自定義 Wx 單位</measures>\n            </elementValue>\n          </time>\n          <time>\n            <startTime>2021-01-18T18:00:00+08:00</startTime>\n            <endTime>2021-01-18T21:00:00+08:00</endTime>\n            <elementValue>\n              <value>晴</value>\n              <measures>自定義 Wx 文字</measures>\n            </elementValue>\n            <elementValue>\n              <value>01</value>\n              <measures>自定義 Wx 單位</measures>\n            </elementValue>\n          </time>\n          <time>\n            <startTime>2021-01-18T21:00:00+08:00</startTime>\n            <endTime>2021-01-19T00:00:00+08:00</endTime>\n            <elementValue>\n              <value>晴</value>\n              <measures>自定義 Wx 文字</measures>\n            </elementValue>\n            <elementValue>\n              <value>01</value>\n              <measures>自定義 Wx 單位</measures>\n            </elementValue>\n          </time>\n          <time>\n            <startTime>2021-01-19T00:00:00+08:00</startTime>\n            <endTime>2021-01-19T03:00:00+08:00</endTime>\n            <elementValue>\n              <value>晴</value>\n              <measures>自定義 Wx 文字</measures>\n            </elementValue>\n            <elementValue>\n              <value>01</value>\n              <measures>自定義 Wx 單位</measures>\n            </elementValue>\n          </time>\n          <time>\n            <startTime>2021-01-19T03:00:00+08:00</startTime>\n            <endTime>2021-01-19T06:00:00+08:00</endTime>\n            <elementValue>\n              <value>晴</value>\n              <measures>自定義 Wx 文字</measures>\n            </elementValue>\n            <elementValue>\n              <value>01</value>\n              <measures>自定義 Wx 單位</measures>\n            </elementValue>\n          </time>\n          <time>\n            <startTime>2021-01-19T06:00:00+08:00</startTime>\n            <endTime>2021-01-19T09:00:00+08:00</endTime>\n            <elementValue>\n              <value>晴</value>\n              <measures>自定義 Wx 文字</measures>\n            </elementValue>\n            <elementValue>\n              <value>01</value>\n              <measures>自定義 Wx 單位</measures>\n            </elementValue>\n          </time>\n          <time>\n            <startTime>2021-01-19T09:00:00+08:00</startTime>\n            <endTime>2021-01-19T12:00:00+08:00</endTime>\n            <elementValue>\n              <value>晴</value>\n              <measures>自定義 Wx 文字</measures>\n            </elementValue>\n            <elementValue>\n              <value>01</value>\n              <measures>自定義 Wx 單位</measures>\n            </elementValue>\n          </time>\n          <time>\n            <startTime>2021-01-19T12:00:00+08:00</startTime>\n            <endTime>2021-01-19T15:00:00+08:00</endTime>\n            <elementValue>\n              <value>晴</value>\n              <measures>自定義 Wx 文字</measures>\n            </elementValue>\n            <elementValue>\n              <value>01</value>\n              <measures>自定義 Wx 單位</measures>\n            </elementValue>\n          </time>\n          <time>\n            <startTime>2021-01-19T15:00:00+08:00</startTime>\n            <endTime>2021-01-19T18:00:00+08:00</endTime>\n            <elementValue>\n              <value>晴</value>\n              <measures>自定義 Wx 文字</measures>\n            </elementValue>\n            <elementValue>\n              <value>01</value>\n              <measures>自定義 Wx 單位</measures>\n            </elementValue>\n          </time>\n          <time>\n            <startTime>2021-01-19T18:00:00+08:00</startTime>\n            <endTime>2021-01-19T21:00:00+08:00</endTime>\n            <elementValue>\n              <value>晴</value>\n              <measures>自定義 Wx 文字</measures>\n            </elementValue>\n            <elementValue>\n              <value>01</value>\n              <measures>自定義 Wx 單位</measures>\n            </elementValue>\n          </time>\n          <time>\n            <startTime>2021-01-19T21:00:00+08:00</startTime>\n            <endTime>2021-01-20T00:00:00+08:00</endTime>\n            <elementValue>\n              <value>晴</value>\n              <measures>自定義 Wx 文字</measures>\n            </elementValue>\n            <elementValue>\n              <value>01</value>\n              <measures>自定義 Wx 單位</measures>\n            </elementValue>\n          </time>\n          <time>\n            <startTime>2021-01-20T00:00:00+08:00</startTime>\n            <endTime>2021-01-20T03:00:00+08:00</endTime>\n            <elementValue>\n              <value>晴</value>\n              <measures>自定義 Wx 文字</measures>\n            </elementValue>\n            <elementValue>\n              <value>01</value>\n              <measures>自定義 Wx 單位</measures>\n            </elementValue>\n          </time>\n          <time>\n            <startTime>2021-01-20T03:00:00+08:00</startTime>\n            <endTime>2021-01-20T06:00:00+08:00</endTime>\n            <elementValue>\n              <value>晴</value>\n              <measures>自定義 Wx 文字</measures>\n            </elementValue>\n            <elementValue>\n              <value>01</value>\n              <measures>自定義 Wx 單位</measures>\n            </elementValue>\n          </time>\n          <time>\n            <startTime>2021-01-20T06:00:00+08:00</startTime>\n            <endTime>2021-01-20T09:00:00+08:00</endTime>\n            <elementValue>\n              <value>晴</value>\n              <measures>自定義 Wx 文字</measures>\n            </elementValue>\n            <elementValue>\n              <value>01</value>\n              <measures>自定義 Wx 單位</measures>\n            </elementValue>\n          </time>\n          <time>\n            <startTime>2021-01-20T09:00:00+08:00</startTime>\n            <endTime>2021-01-20T12:00:00+08:00</endTime>\n            <elementValue>\n              <value>晴</value>\n              <measures>自定義 Wx 文字</measures>\n            </elementValue>\n            <elementValue>\n              <value>01</value>\n              <measures>自定義 Wx 單位</measures>\n            </elementValue>\n          </time>\n          <time>\n            <startTime>2021-01-20T12:00:00+08:00</startTime>\n            <endTime>2021-01-20T15:00:00+08:00</endTime>\n            <elementValue>\n              <value>晴</value>\n              <measures>自定義 Wx 文字</measures>\n            </elementValue>\n            <elementValue>\n              <value>01</value>\n              <measures>自定義 Wx 單位</measures>\n            </elementValue>\n          </time>\n          <time>\n            <startTime>2021-01-20T15:00:00+08:00</startTime>\n            <endTime>2021-01-20T18:00:00+08:00</endTime>\n            <elementValue>\n              <value>晴</value>\n              <measures>自定義 Wx 文字</measures>\n            </elementValue>\n            <elementValue>\n              <value>01</value>\n              <measures>自定義 Wx 單位</measures>\n            </elementValue>\n          </time>\n          <time>\n            <startTime>2021-01-20T18:00:00+08:00</startTime>\n            <endTime>2021-01-20T21:00:00+08:00</endTime>\n            <elementValue>\n              <value>晴</value>\n              <measures>自定義 Wx 文字</measures>\n            </elementValue>\n            <elementValue>\n              <value>01</value>\n              <measures>自定義 Wx 單位</measures>\n            </elementValue>\n          </time>\n          <time>\n            <startTime>2021-01-20T21:00:00+08:00</startTime>\n            <endTime>2021-01-21T00:00:00+08:00</endTime>\n            <elementValue>\n              <value>晴</value>\n              <measures>自定義 Wx 文字</measures>\n            </elementValue>\n            <elementValue>\n              <value>01</value>\n              <measures>自定義 Wx 單位</measures>\n            </elementValue>\n          </time>\n          <time>\n            <startTime>2021-01-21T00:00:00+08:00</startTime>\n            <endTime>2021-01-21T03:00:00+08:00</endTime>\n            <elementValue>\n              <value>短暫雨</value>\n              <measures>自定義 Wx 文字</measures>\n            </elementValue>\n            <elementValue>\n              <value>08</value>\n              <measures>自定義 Wx 單位</measures>\n            </elementValue>\n          </time>\n          <time>\n            <startTime>2021-01-21T03:00:00+08:00</startTime>\n            <endTime>2021-01-21T06:00:00+08:00</endTime>\n            <elementValue>\n              <value>短暫雨</value>\n              <measures>自定義 Wx 文字</measures>\n            </elementValue>\n            <elementValue>\n              <value>08</value>\n              <measures>自定義 Wx 單位</measures>\n            </elementValue>\n          </time>\n          <time>\n            <startTime>2021-01-21T06:00:00+08:00</startTime>\n            <endTime>2021-01-21T09:00:00+08:00</endTime>\n            <elementValue>\n              <value>短暫雨</value>\n              <measures>自定義 Wx 文字</measures>\n            </elementValue>\n            <elementValue>\n              <value>08</value>\n              <measures>自定義 Wx 單位</measures>\n            </elementValue>\n          </time>\n          <time>\n            <startTime>2021-01-21T09:00:00+08:00</startTime>\n            <endTime>2021-01-21T12:00:00+08:00</endTime>\n            <elementValue>\n              <value>短暫雨</value>\n              <measures>自定義 Wx 文字</measures>\n            </elementValue>\n            <elementValue>\n              <value>08</value>\n              <measures>自定義 Wx 單位</measures>\n            </elementValue>\n          </time>\n        </weatherElement>\n        <weatherElement>\n          <elementName>WeatherDescription</elementName>\n          <description>天氣預報綜合描述</description>\n          <time>\n            <startTime>2021-01-18T12:00:00+08:00</startTime>\n            <endTime>2021-01-18T15:00:00+08:00</endTime>\n            <elementValue>\n              <value>多雲。降雨機率 0%。溫度攝氏17度。稍有寒意。西南風 平均風速&lt;= 1級(每秒1公尺)。相對濕度67%。</value>\n              <measures>NA</measures>\n            </elementValue>\n          </time>\n          <time>\n            <startTime>2021-01-18T15:00:00+08:00</startTime>\n            <endTime>2021-01-18T18:00:00+08:00</endTime>\n            <elementValue>\n              <value>多雲。降雨機率 0%。溫度攝氏15度。寒冷。西南風 平均風速&lt;= 1級(每秒0公尺)。相對濕度67%。</value>\n              <measures>NA</measures>\n            </elementValue>\n          </time>\n          <time>\n            <startTime>2021-01-18T18:00:00+08:00</startTime>\n            <endTime>2021-01-18T21:00:00+08:00</endTime>\n            <elementValue>\n              <value>晴。降雨機率 0%。溫度攝氏11度。寒冷。偏南風 平均風速&lt;= 1級(每秒0公尺)。相對濕度78%。</value>\n              <measures>NA</measures>\n            </elementValue>\n          </time>\n          <time>\n            <startTime>2021-01-18T21:00:00+08:00</startTime>\n            <endTime>2021-01-19T00:00:00+08:00</endTime>\n            <elementValue>\n              <value>晴。降雨機率 0%。溫度攝氏10度。非常寒冷。東南風 平均風速&lt;= 1級(每秒0公尺)。相對濕度85%。</value>\n              <measures>NA</measures>\n            </elementValue>\n          </time>\n          <time>\n            <startTime>2021-01-19T00:00:00+08:00</startTime>\n            <endTime>2021-01-19T03:00:00+08:00</endTime>\n            <elementValue>\n              <value>晴。降雨機率 0%。溫度攝氏10度。非常寒冷。偏東風 平均風速&lt;= 1級(每秒0公尺)。相對濕度85%。</value>\n              <measures>NA</measures>\n            </elementValue>\n          </time>\n          <time>\n            <startTime>2021-01-19T03:00:00+08:00</startTime>\n            <endTime>2021-01-19T06:00:00+08:00</endTime>\n            <elementValue>\n              <value>晴。降雨機率 0%。溫度攝氏9度。非常寒冷。偏東風 平均風速&lt;= 1級(每秒0公尺)。相對濕度75%。</value>\n              <measures>NA</measures>\n            </elementValue>\n          </time>\n          <time>\n            <startTime>2021-01-19T06:00:00+08:00</startTime>\n            <endTime>2021-01-19T09:00:00+08:00</endTime>\n            <elementValue>\n              <value>晴。降雨機率 0%。溫度攝氏9度。非常寒冷。偏東風 平均風速&lt;= 1級(每秒0公尺)。相對濕度56%。</value>\n              <measures>NA</measures>\n            </elementValue>\n          </time>\n          <time>\n            <startTime>2021-01-19T09:00:00+08:00</startTime>\n            <endTime>2021-01-19T12:00:00+08:00</endTime>\n            <elementValue>\n              <value>晴。降雨機率 0%。溫度攝氏13度。寒冷。偏西風 平均風速&lt;= 1級(每秒1公尺)。相對濕度59%。</value>\n              <measures>NA</measures>\n            </elementValue>\n          </time>\n          <time>\n            <startTime>2021-01-19T12:00:00+08:00</startTime>\n            <endTime>2021-01-19T15:00:00+08:00</endTime>\n            <elementValue>\n              <value>晴。降雨機率 0%。溫度攝氏19度。稍有寒意。偏西風 平均風速&lt;= 1級(每秒0公尺)。相對濕度66%。</value>\n              <measures>NA</measures>\n            </elementValue>\n          </time>\n          <time>\n            <startTime>2021-01-19T15:00:00+08:00</startTime>\n            <endTime>2021-01-19T18:00:00+08:00</endTime>\n            <elementValue>\n              <value>晴。降雨機率 0%。溫度攝氏17度。稍有寒意。偏西風 平均風速&lt;= 1級(每秒0公尺)。相對濕度69%。</value>\n              <measures>NA</measures>\n            </elementValue>\n          </time>\n          <time>\n            <startTime>2021-01-19T18:00:00+08:00</startTime>\n            <endTime>2021-01-19T21:00:00+08:00</endTime>\n            <elementValue>\n              <value>晴。降雨機率 0%。溫度攝氏13度。寒冷。偏南風 平均風速&lt;= 1級(每秒0公尺)。相對濕度82%。</value>\n              <measures>NA</measures>\n            </elementValue>\n          </time>\n          <time>\n            <startTime>2021-01-19T21:00:00+08:00</startTime>\n            <endTime>2021-01-20T00:00:00+08:00</endTime>\n            <elementValue>\n              <value>晴。降雨機率 0%。溫度攝氏12度。寒冷。偏東風 平均風速&lt;= 1級(每秒1公尺)。相對濕度80%。</value>\n              <measures>NA</measures>\n            </elementValue>\n          </time>\n          <time>\n            <startTime>2021-01-20T00:00:00+08:00</startTime>\n            <endTime>2021-01-20T03:00:00+08:00</endTime>\n            <elementValue>\n              <value>晴。降雨機率 0%。溫度攝氏11度。寒冷。偏東風 平均風速&lt;= 1級(每秒0公尺)。相對濕度72%。</value>\n              <measures>NA</measures>\n            </elementValue>\n          </time>\n          <time>\n            <startTime>2021-01-20T03:00:00+08:00</startTime>\n            <endTime>2021-01-20T06:00:00+08:00</endTime>\n            <elementValue>\n              <value>晴。降雨機率 0%。溫度攝氏11度。寒冷。偏東風 平均風速&lt;= 1級(每秒0公尺)。相對濕度70%。</value>\n              <measures>NA</measures>\n            </elementValue>\n          </time>\n          <time>\n            <startTime>2021-01-20T06:00:00+08:00</startTime>\n            <endTime>2021-01-20T09:00:00+08:00</endTime>\n            <elementValue>\n              <value>晴。降雨機率 0%。溫度攝氏10度。非常寒冷。偏東風 平均風速&lt;= 1級(每秒1公尺)。相對濕度76%。</value>\n              <measures>NA</measures>\n            </elementValue>\n          </time>\n          <time>\n            <startTime>2021-01-20T09:00:00+08:00</startTime>\n            <endTime>2021-01-20T12:00:00+08:00</endTime>\n            <elementValue>\n              <value>晴。降雨機率 0%。溫度攝氏15度。寒冷。偏西風 平均風速&lt;= 1級(每秒1公尺)。相對濕度67%。</value>\n              <measures>NA</measures>\n            </elementValue>\n          </time>\n          <time>\n            <startTime>2021-01-20T12:00:00+08:00</startTime>\n            <endTime>2021-01-20T15:00:00+08:00</endTime>\n            <elementValue>\n              <value>晴。降雨機率 0%。溫度攝氏22度。舒適。偏西風 平均風速&lt;= 1級(每秒0公尺)。相對濕度58%。</value>\n              <measures>NA</measures>\n            </elementValue>\n          </time>\n          <time>\n            <startTime>2021-01-20T15:00:00+08:00</startTime>\n            <endTime>2021-01-20T18:00:00+08:00</endTime>\n            <elementValue>\n              <value>晴。降雨機率 0%。溫度攝氏20度。稍有寒意。偏西風 平均風速&lt;= 1級(每秒0公尺)。相對濕度62%。</value>\n              <measures>NA</measures>\n            </elementValue>\n          </time>\n          <time>\n            <startTime>2021-01-20T18:00:00+08:00</startTime>\n            <endTime>2021-01-20T21:00:00+08:00</endTime>\n            <elementValue>\n              <value>晴。降雨機率 0%。溫度攝氏15度。寒冷。偏東風 平均風速&lt;= 1級(每秒0公尺)。相對濕度72%。</value>\n              <measures>NA</measures>\n            </elementValue>\n          </time>\n          <time>\n            <startTime>2021-01-20T21:00:00+08:00</startTime>\n            <endTime>2021-01-21T00:00:00+08:00</endTime>\n            <elementValue>\n              <value>晴。降雨機率 0%。溫度攝氏14度。寒冷。偏東風 平均風速&lt;= 1級(每秒2公尺)。相對濕度82%。</value>\n              <measures>NA</measures>\n            </elementValue>\n          </time>\n          <time>\n            <startTime>2021-01-21T00:00:00+08:00</startTime>\n            <endTime>2021-01-21T03:00:00+08:00</endTime>\n            <elementValue>\n              <value>短暫雨。降雨機率 30%。溫度攝氏13度。寒冷。偏東風 平均風速&lt;= 1級(每秒0公尺)。相對濕度82%。</value>\n              <measures>NA</measures>\n            </elementValue>\n          </time>\n          <time>\n            <startTime>2021-01-21T03:00:00+08:00</startTime>\n            <endTime>2021-01-21T06:00:00+08:00</endTime>\n            <elementValue>\n              <value>短暫雨。降雨機率 30%。溫度攝氏13度。寒冷。偏東風 平均風速&lt;= 1級(每秒0公尺)。相對濕度78%。</value>\n              <measures>NA</measures>\n            </elementValue>\n          </time>\n          <time>\n            <startTime>2021-01-21T06:00:00+08:00</startTime>\n            <endTime>2021-01-21T09:00:00+08:00</endTime>\n            <elementValue>\n              <value>短暫雨。降雨機率 30%。溫度攝氏12度。寒冷。偏東風 平均風速&lt;= 1級(每秒1公尺)。相對濕度76%。</value>\n              <measures>NA</measures>\n            </elementValue>\n          </time>\n          <time>\n            <startTime>2021-01-21T09:00:00+08:00</startTime>\n            <endTime>2021-01-21T12:00:00+08:00</endTime>\n            <elementValue>\n              <value>短暫雨。降雨機率 30%。溫度攝氏17度。稍有寒意。偏西風 平均風速&lt;= 1級(每秒1公尺)。相對濕度70%。</value>\n              <measures>NA</measures>\n            </elementValue>\n          </time>\n        </weatherElement>\n      </location>\n    </locations>\n  </dataset>\n</cwbopendata>\n\n"
     ]
    }
   ],
   "source": [
    "fh = open(\"./data/64_72hr_CH.xml\", \"r\")\n",
    "xml = fh.read()\n",
    "fh.close()\n",
    "\n",
    "print(xml)"
   ]
  },
  {
   "cell_type": "code",
   "execution_count": 6,
   "metadata": {
    "tags": [
     "outputPrepend"
    ]
   },
   "outputs": [
    {
     "output_type": "stream",
     "name": "stdout",
     "text": [
      "秒')]), OrderedDict([('value', '<= 1'), ('measures', '蒲福風級')])])]), OrderedDict([('dataTime', '2021-01-20T21:00:00+08:00'), ('elementValue', [OrderedDict([('value', '2'), ('measures', '公尺/秒')]), OrderedDict([('value', '<= 1'), ('measures', '蒲福風級')])])]), OrderedDict([('dataTime', '2021-01-21T00:00:00+08:00'), ('elementValue', [OrderedDict([('value', '1'), ('measures', '公尺/秒')]), OrderedDict([('value', '<= 1'), ('measures', '蒲福風級')])])]), OrderedDict([('dataTime', '2021-01-21T03:00:00+08:00'), ('elementValue', [OrderedDict([('value', '1'), ('measures', '公尺/秒')]), OrderedDict([('value', '<= 1'), ('measures', '蒲福風級')])])]), OrderedDict([('dataTime', '2021-01-21T06:00:00+08:00'), ('elementValue', [OrderedDict([('value', '1'), ('measures', '公尺/秒')]), OrderedDict([('value', '<= 1'), ('measures', '蒲福風級')])])]), OrderedDict([('dataTime', '2021-01-21T09:00:00+08:00'), ('elementValue', [OrderedDict([('value', '1'), ('measures', '公尺/秒')]), OrderedDict([('value', '<= 1'), ('measures', '蒲福風級')])])])])]), OrderedDict([('elementName', 'CI'), ('description', '舒適度指數'), ('time', [OrderedDict([('dataTime', '2021-01-18T12:00:00+08:00'), ('elementValue', [OrderedDict([('value', '17'), ('measures', 'NA')]), OrderedDict([('value', '稍有寒意'), ('measures', '自定義 CI 文字')])])]), OrderedDict([('dataTime', '2021-01-18T15:00:00+08:00'), ('elementValue', [OrderedDict([('value', '15'), ('measures', 'NA')]), OrderedDict([('value', '寒冷'), ('measures', '自定義 CI 文字')])])]), OrderedDict([('dataTime', '2021-01-18T18:00:00+08:00'), ('elementValue', [OrderedDict([('value', '12'), ('measures', 'NA')]), OrderedDict([('value', '寒冷'), ('measures', '自定義 CI 文字')])])]), OrderedDict([('dataTime', '2021-01-18T21:00:00+08:00'), ('elementValue', [OrderedDict([('value', '10'), ('measures', 'NA')]), OrderedDict([('value', '非常寒冷'), ('measures', '自定義 CI 文字')])])]), OrderedDict([('dataTime', '2021-01-19T00:00:00+08:00'), ('elementValue', [OrderedDict([('value', '10'), ('measures', 'NA')]), OrderedDict([('value', '非常寒冷'), ('measures', '自定義 CI 文字')])])]), OrderedDict([('dataTime', '2021-01-19T03:00:00+08:00'), ('elementValue', [OrderedDict([('value', '10'), ('measures', 'NA')]), OrderedDict([('value', '非常寒冷'), ('measures', '自定義 CI 文字')])])]), OrderedDict([('dataTime', '2021-01-19T06:00:00+08:00'), ('elementValue', [OrderedDict([('value', '10'), ('measures', 'NA')]), OrderedDict([('value', '非常寒冷'), ('measures', '自定義 CI 文字')])])]), OrderedDict([('dataTime', '2021-01-19T09:00:00+08:00'), ('elementValue', [OrderedDict([('value', '13'), ('measures', 'NA')]), OrderedDict([('value', '寒冷'), ('measures', '自定義 CI 文字')])])]), OrderedDict([('dataTime', '2021-01-19T12:00:00+08:00'), ('elementValue', [OrderedDict([('value', '18'), ('measures', 'NA')]), OrderedDict([('value', '稍有寒意'), ('measures', '自定義 CI 文字')])])]), OrderedDict([('dataTime', '2021-01-19T15:00:00+08:00'), ('elementValue', [OrderedDict([('value', '16'), ('measures', 'NA')]), OrderedDict([('value', '稍有寒意'), ('measures', '自定義 CI 文字')])])]), OrderedDict([('dataTime', '2021-01-19T18:00:00+08:00'), ('elementValue', [OrderedDict([('value', '13'), ('measures', 'NA')]), OrderedDict([('value', '寒冷'), ('measures', '自定義 CI 文字')])])]), OrderedDict([('dataTime', '2021-01-19T21:00:00+08:00'), ('elementValue', [OrderedDict([('value', '12'), ('measures', 'NA')]), OrderedDict([('value', '寒冷'), ('measures', '自定義 CI 文字')])])]), OrderedDict([('dataTime', '2021-01-20T00:00:00+08:00'), ('elementValue', [OrderedDict([('value', '12'), ('measures', 'NA')]), OrderedDict([('value', '寒冷'), ('measures', '自定義 CI 文字')])])]), OrderedDict([('dataTime', '2021-01-20T03:00:00+08:00'), ('elementValue', [OrderedDict([('value', '11'), ('measures', 'NA')]), OrderedDict([('value', '寒冷'), ('measures', '自定義 CI 文字')])])]), OrderedDict([('dataTime', '2021-01-20T06:00:00+08:00'), ('elementValue', [OrderedDict([('value', '11'), ('measures', 'NA')]), OrderedDict([('value', '非常寒冷'), ('measures', '自定義 CI 文字')])])]), OrderedDict([('dataTime', '2021-01-20T09:00:00+08:00'), ('elementValue', [OrderedDict([('value', '15'), ('measures', 'NA')]), OrderedDict([('value', '寒冷'), ('measures', '自定義 CI 文字')])])]), OrderedDict([('dataTime', '2021-01-20T12:00:00+08:00'), ('elementValue', [OrderedDict([('value', '20'), ('measures', 'NA')]), OrderedDict([('value', '舒適'), ('measures', '自定義 CI 文字')])])]), OrderedDict([('dataTime', '2021-01-20T15:00:00+08:00'), ('elementValue', [OrderedDict([('value', '19'), ('measures', 'NA')]), OrderedDict([('value', '稍有寒意'), ('measures', '自定義 CI 文字')])])]), OrderedDict([('dataTime', '2021-01-20T18:00:00+08:00'), ('elementValue', [OrderedDict([('value', '15'), ('measures', 'NA')]), OrderedDict([('value', '寒冷'), ('measures', '自定義 CI 文字')])])]), OrderedDict([('dataTime', '2021-01-20T21:00:00+08:00'), ('elementValue', [OrderedDict([('value', '14'), ('measures', 'NA')]), OrderedDict([('value', '寒冷'), ('measures', '自定義 CI 文字')])])]), OrderedDict([('dataTime', '2021-01-21T00:00:00+08:00'), ('elementValue', [OrderedDict([('value', '13'), ('measures', 'NA')]), OrderedDict([('value', '寒冷'), ('measures', '自定義 CI 文字')])])]), OrderedDict([('dataTime', '2021-01-21T03:00:00+08:00'), ('elementValue', [OrderedDict([('value', '13'), ('measures', 'NA')]), OrderedDict([('value', '寒冷'), ('measures', '自定義 CI 文字')])])]), OrderedDict([('dataTime', '2021-01-21T06:00:00+08:00'), ('elementValue', [OrderedDict([('value', '12'), ('measures', 'NA')]), OrderedDict([('value', '寒冷'), ('measures', '自定義 CI 文字')])])]), OrderedDict([('dataTime', '2021-01-21T09:00:00+08:00'), ('elementValue', [OrderedDict([('value', '16'), ('measures', 'NA')]), OrderedDict([('value', '稍有寒意'), ('measures', '自定義 CI 文字')])])])])]), OrderedDict([('elementName', 'AT'), ('description', '體感溫度'), ('time', [OrderedDict([('dataTime', '2021-01-18T12:00:00+08:00'), ('elementValue', OrderedDict([('value', '17'), ('measures', '攝氏度')]))]), OrderedDict([('dataTime', '2021-01-18T15:00:00+08:00'), ('elementValue', OrderedDict([('value', '15'), ('measures', '攝氏度')]))]), OrderedDict([('dataTime', '2021-01-18T18:00:00+08:00'), ('elementValue', OrderedDict([('value', '11'), ('measures', '攝氏度')]))]), OrderedDict([('dataTime', '2021-01-18T21:00:00+08:00'), ('elementValue', OrderedDict([('value', '10'), ('measures', '攝氏度')]))]), OrderedDict([('dataTime', '2021-01-19T00:00:00+08:00'), ('elementValue', OrderedDict([('value', '9'), ('measures', '攝氏度')]))]), OrderedDict([('dataTime', '2021-01-19T03:00:00+08:00'), ('elementValue', OrderedDict([('value', '8'), ('measures', '攝氏度')]))]), OrderedDict([('dataTime', '2021-01-19T06:00:00+08:00'), ('elementValue', OrderedDict([('value', '8'), ('measures', '攝氏度')]))]), OrderedDict([('dataTime', '2021-01-19T09:00:00+08:00'), ('elementValue', OrderedDict([('value', '12'), ('measures', '攝氏度')]))]), OrderedDict([('dataTime', '2021-01-19T12:00:00+08:00'), ('elementValue', OrderedDict([('value', '19'), ('measures', '攝氏度')]))]), OrderedDict([('dataTime', '2021-01-19T15:00:00+08:00'), ('elementValue', OrderedDict([('value', '17'), ('measures', '攝氏度')]))]), OrderedDict([('dataTime', '2021-01-19T18:00:00+08:00'), ('elementValue', OrderedDict([('value', '12'), ('measures', '攝氏度')]))]), OrderedDict([('dataTime', '2021-01-19T21:00:00+08:00'), ('elementValue', OrderedDict([('value', '11'), ('measures', '攝氏度')]))]), OrderedDict([('dataTime', '2021-01-20T00:00:00+08:00'), ('elementValue', OrderedDict([('value', '10'), ('measures', '攝氏度')]))]), OrderedDict([('dataTime', '2021-01-20T03:00:00+08:00'), ('elementValue', OrderedDict([('value', '10'), ('measures', '攝氏度')]))]), OrderedDict([('dataTime', '2021-01-20T06:00:00+08:00'), ('elementValue', OrderedDict([('value', '10'), ('measures', '攝氏度')]))]), OrderedDict([('dataTime', '2021-01-20T09:00:00+08:00'), ('elementValue', OrderedDict([('value', '15'), ('measures', '攝氏度')]))]), OrderedDict([('dataTime', '2021-01-20T12:00:00+08:00'), ('elementValue', OrderedDict([('value', '22'), ('measures', '攝氏度')]))]), OrderedDict([('dataTime', '2021-01-20T15:00:00+08:00'), ('elementValue', OrderedDict([('value', '20'), ('measures', '攝氏度')]))]), OrderedDict([('dataTime', '2021-01-20T18:00:00+08:00'), ('elementValue', OrderedDict([('value', '15'), ('measures', '攝氏度')]))]), OrderedDict([('dataTime', '2021-01-20T21:00:00+08:00'), ('elementValue', OrderedDict([('value', '14'), ('measures', '攝氏度')]))]), OrderedDict([('dataTime', '2021-01-21T00:00:00+08:00'), ('elementValue', OrderedDict([('value', '12'), ('measures', '攝氏度')]))]), OrderedDict([('dataTime', '2021-01-21T03:00:00+08:00'), ('elementValue', OrderedDict([('value', '12'), ('measures', '攝氏度')]))]), OrderedDict([('dataTime', '2021-01-21T06:00:00+08:00'), ('elementValue', OrderedDict([('value', '12'), ('measures', '攝氏度')]))]), OrderedDict([('dataTime', '2021-01-21T09:00:00+08:00'), ('elementValue', OrderedDict([('value', '17'), ('measures', '攝氏度')]))])])]), OrderedDict([('elementName', 'Wx'), ('description', '天氣現象'), ('time', [OrderedDict([('startTime', '2021-01-18T12:00:00+08:00'), ('endTime', '2021-01-18T15:00:00+08:00'), ('elementValue', [OrderedDict([('value', '多雲'), ('measures', '自定義 Wx 文字')]), OrderedDict([('value', '04'), ('measures', '自定義 Wx 單位')])])]), OrderedDict([('startTime', '2021-01-18T15:00:00+08:00'), ('endTime', '2021-01-18T18:00:00+08:00'), ('elementValue', [OrderedDict([('value', '多雲'), ('measures', '自定義 Wx 文字')]), OrderedDict([('value', '04'), ('measures', '自定義 Wx 單位')])])]), OrderedDict([('startTime', '2021-01-18T18:00:00+08:00'), ('endTime', '2021-01-18T21:00:00+08:00'), ('elementValue', [OrderedDict([('value', '晴'), ('measures', '自定義 Wx 文字')]), OrderedDict([('value', '01'), ('measures', '自定義 Wx 單位')])])]), OrderedDict([('startTime', '2021-01-18T21:00:00+08:00'), ('endTime', '2021-01-19T00:00:00+08:00'), ('elementValue', [OrderedDict([('value', '晴'), ('measures', '自定義 Wx 文字')]), OrderedDict([('value', '01'), ('measures', '自定義 Wx 單位')])])]), OrderedDict([('startTime', '2021-01-19T00:00:00+08:00'), ('endTime', '2021-01-19T03:00:00+08:00'), ('elementValue', [OrderedDict([('value', '晴'), ('measures', '自定義 Wx 文字')]), OrderedDict([('value', '01'), ('measures', '自定義 Wx 單位')])])]), OrderedDict([('startTime', '2021-01-19T03:00:00+08:00'), ('endTime', '2021-01-19T06:00:00+08:00'), ('elementValue', [OrderedDict([('value', '晴'), ('measures', '自定義 Wx 文字')]), OrderedDict([('value', '01'), ('measures', '自定義 Wx 單位')])])]), OrderedDict([('startTime', '2021-01-19T06:00:00+08:00'), ('endTime', '2021-01-19T09:00:00+08:00'), ('elementValue', [OrderedDict([('value', '晴'), ('measures', '自定義 Wx 文字')]), OrderedDict([('value', '01'), ('measures', '自定義 Wx 單位')])])]), OrderedDict([('startTime', '2021-01-19T09:00:00+08:00'), ('endTime', '2021-01-19T12:00:00+08:00'), ('elementValue', [OrderedDict([('value', '晴'), ('measures', '自定義 Wx 文字')]), OrderedDict([('value', '01'), ('measures', '自定義 Wx 單位')])])]), OrderedDict([('startTime', '2021-01-19T12:00:00+08:00'), ('endTime', '2021-01-19T15:00:00+08:00'), ('elementValue', [OrderedDict([('value', '晴'), ('measures', '自定義 Wx 文字')]), OrderedDict([('value', '01'), ('measures', '自定義 Wx 單位')])])]), OrderedDict([('startTime', '2021-01-19T15:00:00+08:00'), ('endTime', '2021-01-19T18:00:00+08:00'), ('elementValue', [OrderedDict([('value', '晴'), ('measures', '自定義 Wx 文字')]), OrderedDict([('value', '01'), ('measures', '自定義 Wx 單位')])])]), OrderedDict([('startTime', '2021-01-19T18:00:00+08:00'), ('endTime', '2021-01-19T21:00:00+08:00'), ('elementValue', [OrderedDict([('value', '晴'), ('measures', '自定義 Wx 文字')]), OrderedDict([('value', '01'), ('measures', '自定義 Wx 單位')])])]), OrderedDict([('startTime', '2021-01-19T21:00:00+08:00'), ('endTime', '2021-01-20T00:00:00+08:00'), ('elementValue', [OrderedDict([('value', '晴'), ('measures', '自定義 Wx 文字')]), OrderedDict([('value', '01'), ('measures', '自定義 Wx 單位')])])]), OrderedDict([('startTime', '2021-01-20T00:00:00+08:00'), ('endTime', '2021-01-20T03:00:00+08:00'), ('elementValue', [OrderedDict([('value', '晴'), ('measures', '自定義 Wx 文字')]), OrderedDict([('value', '01'), ('measures', '自定義 Wx 單位')])])]), OrderedDict([('startTime', '2021-01-20T03:00:00+08:00'), ('endTime', '2021-01-20T06:00:00+08:00'), ('elementValue', [OrderedDict([('value', '晴'), ('measures', '自定義 Wx 文字')]), OrderedDict([('value', '01'), ('measures', '自定義 Wx 單位')])])]), OrderedDict([('startTime', '2021-01-20T06:00:00+08:00'), ('endTime', '2021-01-20T09:00:00+08:00'), ('elementValue', [OrderedDict([('value', '晴'), ('measures', '自定義 Wx 文字')]), OrderedDict([('value', '01'), ('measures', '自定義 Wx 單位')])])]), OrderedDict([('startTime', '2021-01-20T09:00:00+08:00'), ('endTime', '2021-01-20T12:00:00+08:00'), ('elementValue', [OrderedDict([('value', '晴'), ('measures', '自定義 Wx 文字')]), OrderedDict([('value', '01'), ('measures', '自定義 Wx 單位')])])]), OrderedDict([('startTime', '2021-01-20T12:00:00+08:00'), ('endTime', '2021-01-20T15:00:00+08:00'), ('elementValue', [OrderedDict([('value', '晴'), ('measures', '自定義 Wx 文字')]), OrderedDict([('value', '01'), ('measures', '自定義 Wx 單位')])])]), OrderedDict([('startTime', '2021-01-20T15:00:00+08:00'), ('endTime', '2021-01-20T18:00:00+08:00'), ('elementValue', [OrderedDict([('value', '晴'), ('measures', '自定義 Wx 文字')]), OrderedDict([('value', '01'), ('measures', '自定義 Wx 單位')])])]), OrderedDict([('startTime', '2021-01-20T18:00:00+08:00'), ('endTime', '2021-01-20T21:00:00+08:00'), ('elementValue', [OrderedDict([('value', '晴'), ('measures', '自定義 Wx 文字')]), OrderedDict([('value', '01'), ('measures', '自定義 Wx 單位')])])]), OrderedDict([('startTime', '2021-01-20T21:00:00+08:00'), ('endTime', '2021-01-21T00:00:00+08:00'), ('elementValue', [OrderedDict([('value', '晴'), ('measures', '自定義 Wx 文字')]), OrderedDict([('value', '01'), ('measures', '自定義 Wx 單位')])])]), OrderedDict([('startTime', '2021-01-21T00:00:00+08:00'), ('endTime', '2021-01-21T03:00:00+08:00'), ('elementValue', [OrderedDict([('value', '短暫雨'), ('measures', '自定義 Wx 文字')]), OrderedDict([('value', '08'), ('measures', '自定義 Wx 單位')])])]), OrderedDict([('startTime', '2021-01-21T03:00:00+08:00'), ('endTime', '2021-01-21T06:00:00+08:00'), ('elementValue', [OrderedDict([('value', '短暫雨'), ('measures', '自定義 Wx 文字')]), OrderedDict([('value', '08'), ('measures', '自定義 Wx 單位')])])]), OrderedDict([('startTime', '2021-01-21T06:00:00+08:00'), ('endTime', '2021-01-21T09:00:00+08:00'), ('elementValue', [OrderedDict([('value', '短暫雨'), ('measures', '自定義 Wx 文字')]), OrderedDict([('value', '08'), ('measures', '自定義 Wx 單位')])])]), OrderedDict([('startTime', '2021-01-21T09:00:00+08:00'), ('endTime', '2021-01-21T12:00:00+08:00'), ('elementValue', [OrderedDict([('value', '短暫雨'), ('measures', '自定義 Wx 文字')]), OrderedDict([('value', '08'), ('measures', '自定義 Wx 單位')])])])])]), OrderedDict([('elementName', 'WeatherDescription'), ('description', '天氣預報綜合描述'), ('time', [OrderedDict([('startTime', '2021-01-18T12:00:00+08:00'), ('endTime', '2021-01-18T15:00:00+08:00'), ('elementValue', OrderedDict([('value', '多雲。降雨機率 0%。溫度攝氏17度。稍有寒意。西南風 平均風速<= 1級(每秒1公尺)。相對濕度67%。'), ('measures', 'NA')]))]), OrderedDict([('startTime', '2021-01-18T15:00:00+08:00'), ('endTime', '2021-01-18T18:00:00+08:00'), ('elementValue', OrderedDict([('value', '多雲。降雨機率 0%。溫度攝氏15度。寒冷。西南風 平均風速<= 1級(每秒0公尺)。相對濕度67%。'), ('measures', 'NA')]))]), OrderedDict([('startTime', '2021-01-18T18:00:00+08:00'), ('endTime', '2021-01-18T21:00:00+08:00'), ('elementValue', OrderedDict([('value', '晴。降雨機率 0%。溫度攝氏11度。寒冷。偏南風 平均風速<= 1級(每秒0公尺)。相對濕度78%。'), ('measures', 'NA')]))]), OrderedDict([('startTime', '2021-01-18T21:00:00+08:00'), ('endTime', '2021-01-19T00:00:00+08:00'), ('elementValue', OrderedDict([('value', '晴。降雨機率 0%。溫度攝氏10度。非常寒冷。東南風 平均風速<= 1級(每秒0公尺)。相對濕度85%。'), ('measures', 'NA')]))]), OrderedDict([('startTime', '2021-01-19T00:00:00+08:00'), ('endTime', '2021-01-19T03:00:00+08:00'), ('elementValue', OrderedDict([('value', '晴。降雨機率 0%。溫度攝氏10度。非常寒冷。偏東風 平均風速<= 1級(每秒0公尺)。相對濕度85%。'), ('measures', 'NA')]))]), OrderedDict([('startTime', '2021-01-19T03:00:00+08:00'), ('endTime', '2021-01-19T06:00:00+08:00'), ('elementValue', OrderedDict([('value', '晴。降雨機率 0%。溫度攝氏9度。非常寒冷。偏東風 平均風速<= 1級(每秒0公尺)。相對濕度75%。'), ('measures', 'NA')]))]), OrderedDict([('startTime', '2021-01-19T06:00:00+08:00'), ('endTime', '2021-01-19T09:00:00+08:00'), ('elementValue', OrderedDict([('value', '晴。降雨機率 0%。溫度攝氏9度。非常寒冷。偏東風 平均風速<= 1級(每秒0公尺)。相對濕度56%。'), ('measures', 'NA')]))]), OrderedDict([('startTime', '2021-01-19T09:00:00+08:00'), ('endTime', '2021-01-19T12:00:00+08:00'), ('elementValue', OrderedDict([('value', '晴。降雨機率 0%。溫度攝氏13度。寒冷。偏西風 平均風速<= 1級(每秒1公尺)。相對濕度59%。'), ('measures', 'NA')]))]), OrderedDict([('startTime', '2021-01-19T12:00:00+08:00'), ('endTime', '2021-01-19T15:00:00+08:00'), ('elementValue', OrderedDict([('value', '晴。降雨機率 0%。溫度攝氏19度。稍有寒意。偏西風 平均風速<= 1級(每秒0公尺)。相對濕度66%。'), ('measures', 'NA')]))]), OrderedDict([('startTime', '2021-01-19T15:00:00+08:00'), ('endTime', '2021-01-19T18:00:00+08:00'), ('elementValue', OrderedDict([('value', '晴。降雨機率 0%。溫度攝氏17度。稍有寒意。偏西風 平均風速<= 1級(每秒0公尺)。相對濕度69%。'), ('measures', 'NA')]))]), OrderedDict([('startTime', '2021-01-19T18:00:00+08:00'), ('endTime', '2021-01-19T21:00:00+08:00'), ('elementValue', OrderedDict([('value', '晴。降雨機率 0%。溫度攝氏13度。寒冷。偏南風 平均風速<= 1級(每秒0公尺)。相對濕度82%。'), ('measures', 'NA')]))]), OrderedDict([('startTime', '2021-01-19T21:00:00+08:00'), ('endTime', '2021-01-20T00:00:00+08:00'), ('elementValue', OrderedDict([('value', '晴。降雨機率 0%。溫度攝氏12度。寒冷。偏東風 平均風速<= 1級(每秒1公尺)。相對濕度80%。'), ('measures', 'NA')]))]), OrderedDict([('startTime', '2021-01-20T00:00:00+08:00'), ('endTime', '2021-01-20T03:00:00+08:00'), ('elementValue', OrderedDict([('value', '晴。降雨機率 0%。溫度攝氏11度。寒冷。偏東風 平均風速<= 1級(每秒0公尺)。相對濕度72%。'), ('measures', 'NA')]))]), OrderedDict([('startTime', '2021-01-20T03:00:00+08:00'), ('endTime', '2021-01-20T06:00:00+08:00'), ('elementValue', OrderedDict([('value', '晴。降雨機率 0%。溫度攝氏11度。寒冷。偏東風 平均風速<= 1級(每秒0公尺)。相對濕度70%。'), ('measures', 'NA')]))]), OrderedDict([('startTime', '2021-01-20T06:00:00+08:00'), ('endTime', '2021-01-20T09:00:00+08:00'), ('elementValue', OrderedDict([('value', '晴。降雨機率 0%。溫度攝氏10度。非常寒冷。偏東風 平均風速<= 1級(每秒1公尺)。相對濕度76%。'), ('measures', 'NA')]))]), OrderedDict([('startTime', '2021-01-20T09:00:00+08:00'), ('endTime', '2021-01-20T12:00:00+08:00'), ('elementValue', OrderedDict([('value', '晴。降雨機率 0%。溫度攝氏15度。寒冷。偏西風 平均風速<= 1級(每秒1公尺)。相對濕度67%。'), ('measures', 'NA')]))]), OrderedDict([('startTime', '2021-01-20T12:00:00+08:00'), ('endTime', '2021-01-20T15:00:00+08:00'), ('elementValue', OrderedDict([('value', '晴。降雨機率 0%。溫度攝氏22度。舒適。偏西風 平均風速<= 1級(每秒0公尺)。相對濕度58%。'), ('measures', 'NA')]))]), OrderedDict([('startTime', '2021-01-20T15:00:00+08:00'), ('endTime', '2021-01-20T18:00:00+08:00'), ('elementValue', OrderedDict([('value', '晴。降雨機率 0%。溫度攝氏20度。稍有寒意。偏西風 平均風速<= 1級(每秒0公尺)。相對濕度62%。'), ('measures', 'NA')]))]), OrderedDict([('startTime', '2021-01-20T18:00:00+08:00'), ('endTime', '2021-01-20T21:00:00+08:00'), ('elementValue', OrderedDict([('value', '晴。降雨機率 0%。溫度攝氏15度。寒冷。偏東風 平均風速<= 1級(每秒0公尺)。相對濕度72%。'), ('measures', 'NA')]))]), OrderedDict([('startTime', '2021-01-20T21:00:00+08:00'), ('endTime', '2021-01-21T00:00:00+08:00'), ('elementValue', OrderedDict([('value', '晴。降雨機率 0%。溫度攝氏14度。寒冷。偏東風 平均風速<= 1級(每秒2公尺)。相對濕度82%。'), ('measures', 'NA')]))]), OrderedDict([('startTime', '2021-01-21T00:00:00+08:00'), ('endTime', '2021-01-21T03:00:00+08:00'), ('elementValue', OrderedDict([('value', '短暫雨。降雨機率 30%。溫度攝氏13度。寒冷。偏東風 平均風速<= 1級(每秒0公尺)。相對濕度82%。'), ('measures', 'NA')]))]), OrderedDict([('startTime', '2021-01-21T03:00:00+08:00'), ('endTime', '2021-01-21T06:00:00+08:00'), ('elementValue', OrderedDict([('value', '短暫雨。降雨機率 30%。溫度攝氏13度。寒冷。偏東風 平均風速<= 1級(每秒0公尺)。相對濕度78%。'), ('measures', 'NA')]))]), OrderedDict([('startTime', '2021-01-21T06:00:00+08:00'), ('endTime', '2021-01-21T09:00:00+08:00'), ('elementValue', OrderedDict([('value', '短暫雨。降雨機率 30%。溫度攝氏12度。寒冷。偏東風 平均風速<= 1級(每秒1公尺)。相對濕度76%。'), ('measures', 'NA')]))]), OrderedDict([('startTime', '2021-01-21T09:00:00+08:00'), ('endTime', '2021-01-21T12:00:00+08:00'), ('elementValue', OrderedDict([('value', '短暫雨。降雨機率 30%。溫度攝氏17度。稍有寒意。偏西風 平均風速<= 1級(每秒1公尺)。相對濕度70%。'), ('measures', 'NA')]))])])])])])])]))]))])}\n"
     ]
    }
   ],
   "source": [
    "# 解析檔案內容\n",
    "import xmltodict\n",
    "d = dict(xmltodict.parse(xml))\n",
    "print(d)"
   ]
  },
  {
   "source": [
    "file I/O 讀出來的格式是用 <> (Markup) 和 content 組成的。  \n",
    "而用 xmltodict 讀出來的格式是 dictionary"
   ],
   "cell_type": "markdown",
   "metadata": {}
  },
  {
   "cell_type": "code",
   "execution_count": 5,
   "metadata": {},
   "outputs": [
    {
     "output_type": "stream",
     "name": "stdout",
     "text": [
      "臺灣各縣市鄉鎮未來3天(72小時)逐3小時天氣預報\n"
     ]
    }
   ],
   "source": [
    "# 取出 datasetDescription\n",
    "datasetDescription = d['cwbopendata']['dataset']['datasetInfo']['datasetDescription']\n",
    "print(datasetDescription)"
   ]
  },
  {
   "cell_type": "markdown",
   "metadata": {},
   "source": [
    "### 根據範例檔案的結果：\n",
    "\n",
    "1. 請問高雄市有多少地區有溫度資料？\n",
    "2. 請取出每一個地區所記錄的第一個時間點跟溫度\n",
    "3. 請取出第一個地區所記錄的每一個時間點跟溫度"
   ]
  },
  {
   "cell_type": "code",
   "execution_count": 38,
   "metadata": {},
   "outputs": [
    {
     "output_type": "stream",
     "name": "stdout",
     "text": [
      "38 個地區\n"
     ]
    }
   ],
   "source": [
    "# 1. 請問高雄市有多少地區有溫度資料？\n",
    "\n",
    "'''\n",
    "Your Code\n",
    "'''\n",
    "num_loc = len(d['cwbopendata']['dataset'][\"locations\"]['location'])\n",
    "print(num_loc,\"個地區\")"
   ]
  },
  {
   "cell_type": "code",
   "execution_count": 96,
   "metadata": {},
   "outputs": [
    {
     "output_type": "execute_result",
     "data": {
      "text/plain": [
       "'那瑪夏區'"
      ]
     },
     "metadata": {},
     "execution_count": 96
    }
   ],
   "source": [
    "d['cwbopendata']['dataset'][\"locations\"]['location'][-1]['locationName']"
   ]
  },
  {
   "cell_type": "code",
   "execution_count": 130,
   "metadata": {
    "tags": []
   },
   "outputs": [
    {
     "output_type": "stream",
     "name": "stdout",
     "text": [
      "時間： 2021-01-18T12:00:00+08:00 / 溫度（攝氏）： 18\n時間： 2021-01-18T12:00:00+08:00 / 溫度（攝氏）： 18\n時間： 2021-01-18T12:00:00+08:00 / 溫度（攝氏）： 18\n時間： 2021-01-18T12:00:00+08:00 / 溫度（攝氏）： 18\n時間： 2021-01-18T12:00:00+08:00 / 溫度（攝氏）： 18\n時間： 2021-01-18T12:00:00+08:00 / 溫度（攝氏）： 18\n時間： 2021-01-18T12:00:00+08:00 / 溫度（攝氏）： 18\n時間： 2021-01-18T12:00:00+08:00 / 溫度（攝氏）： 18\n時間： 2021-01-18T12:00:00+08:00 / 溫度（攝氏）： 19\n時間： 2021-01-18T12:00:00+08:00 / 溫度（攝氏）： 19\n時間： 2021-01-18T12:00:00+08:00 / 溫度（攝氏）： 19\n時間： 2021-01-18T12:00:00+08:00 / 溫度（攝氏）： 19\n時間： 2021-01-18T12:00:00+08:00 / 溫度（攝氏）： 20\n時間： 2021-01-18T12:00:00+08:00 / 溫度（攝氏）： 19\n時間： 2021-01-18T12:00:00+08:00 / 溫度（攝氏）： 20\n時間： 2021-01-18T12:00:00+08:00 / 溫度（攝氏）： 18\n時間： 2021-01-18T12:00:00+08:00 / 溫度（攝氏）： 18\n時間： 2021-01-18T12:00:00+08:00 / 溫度（攝氏）： 19\n時間： 2021-01-18T12:00:00+08:00 / 溫度（攝氏）： 18\n時間： 2021-01-18T12:00:00+08:00 / 溫度（攝氏）： 18\n時間： 2021-01-18T12:00:00+08:00 / 溫度（攝氏）： 18\n時間： 2021-01-18T12:00:00+08:00 / 溫度（攝氏）： 19\n時間： 2021-01-18T12:00:00+08:00 / 溫度（攝氏）： 19\n時間： 2021-01-18T12:00:00+08:00 / 溫度（攝氏）： 19\n時間： 2021-01-18T12:00:00+08:00 / 溫度（攝氏）： 18\n時間： 2021-01-18T12:00:00+08:00 / 溫度（攝氏）： 18\n時間： 2021-01-18T12:00:00+08:00 / 溫度（攝氏）： 18\n時間： 2021-01-18T12:00:00+08:00 / 溫度（攝氏）： 18\n時間： 2021-01-18T12:00:00+08:00 / 溫度（攝氏）： 17\n時間： 2021-01-18T12:00:00+08:00 / 溫度（攝氏）： 20\n時間： 2021-01-18T12:00:00+08:00 / 溫度（攝氏）： 21\n時間： 2021-01-18T12:00:00+08:00 / 溫度（攝氏）： 21\n時間： 2021-01-18T12:00:00+08:00 / 溫度（攝氏）： 20\n時間： 2021-01-18T12:00:00+08:00 / 溫度（攝氏）： 21\n時間： 2021-01-18T12:00:00+08:00 / 溫度（攝氏）： 21\n時間： 2021-01-18T12:00:00+08:00 / 溫度（攝氏）： 20\n時間： 2021-01-18T12:00:00+08:00 / 溫度（攝氏）： 18\n時間： 2021-01-18T12:00:00+08:00 / 溫度（攝氏）： 17\n"
     ]
    }
   ],
   "source": [
    "# 2. 請取出每一個地區所記錄的第一個時間點跟溫度\n",
    "\n",
    "'''\n",
    "Your Code\n",
    "'''\n",
    "for location in d['cwbopendata']['dataset'][\"locations\"]['location']:\n",
    "    weatherElement = location[\"weatherElement\"][0]\n",
    "    time = weatherElement[\"time\"][0]\n",
    "    print(\"時間：\",time[\"dataTime\"], \"/ 溫度（攝氏）：\",time[\"elementValue\"][\"value\"])\n"
   ]
  },
  {
   "cell_type": "code",
   "execution_count": 129,
   "metadata": {},
   "outputs": [
    {
     "output_type": "stream",
     "name": "stdout",
     "text": [
      "時間： 2021-01-18T12:00:00+08:00 / 溫度（攝氏）： 18\n時間： 2021-01-18T15:00:00+08:00 / 溫度（攝氏）： 19\n時間： 2021-01-18T18:00:00+08:00 / 溫度（攝氏）： 18\n時間： 2021-01-18T21:00:00+08:00 / 溫度（攝氏）： 16\n時間： 2021-01-19T00:00:00+08:00 / 溫度（攝氏）： 15\n時間： 2021-01-19T03:00:00+08:00 / 溫度（攝氏）： 14\n時間： 2021-01-19T06:00:00+08:00 / 溫度（攝氏）： 14\n時間： 2021-01-19T09:00:00+08:00 / 溫度（攝氏）： 15\n時間： 2021-01-19T12:00:00+08:00 / 溫度（攝氏）： 20\n時間： 2021-01-19T15:00:00+08:00 / 溫度（攝氏）： 20\n時間： 2021-01-19T18:00:00+08:00 / 溫度（攝氏）： 19\n時間： 2021-01-19T21:00:00+08:00 / 溫度（攝氏）： 18\n時間： 2021-01-20T00:00:00+08:00 / 溫度（攝氏）： 17\n時間： 2021-01-20T03:00:00+08:00 / 溫度（攝氏）： 16\n時間： 2021-01-20T06:00:00+08:00 / 溫度（攝氏）： 16\n時間： 2021-01-20T09:00:00+08:00 / 溫度（攝氏）： 17\n時間： 2021-01-20T12:00:00+08:00 / 溫度（攝氏）： 21\n時間： 2021-01-20T15:00:00+08:00 / 溫度（攝氏）： 22\n時間： 2021-01-20T18:00:00+08:00 / 溫度（攝氏）： 21\n時間： 2021-01-20T21:00:00+08:00 / 溫度（攝氏）： 20\n時間： 2021-01-21T00:00:00+08:00 / 溫度（攝氏）： 19\n時間： 2021-01-21T03:00:00+08:00 / 溫度（攝氏）： 18\n時間： 2021-01-21T06:00:00+08:00 / 溫度（攝氏）： 18\n時間： 2021-01-21T09:00:00+08:00 / 溫度（攝氏）： 19\n"
     ]
    }
   ],
   "source": [
    "# 3. 請取出第一個地區所記錄的每一個時間點跟溫度\n",
    "\n",
    "'''\n",
    "Your Code\n",
    "'''\n",
    "for time in d['cwbopendata']['dataset'][\"locations\"]['location'][0]['weatherElement'][0][\"time\"]:\n",
    "    dataTime = time[\"dataTime\"]\n",
    "    print(\"時間：\",dataTime, \"/ 溫度（攝氏）：\",time[\"elementValue\"][\"value\"])\n",
    "    # print(\"時間：\",dataTime, \"溫度（攝氏）：\",dataTime[\"elementValue\"][\"value\"])\n",
    "    # break\n",
    "    # time = weatherElement[\"time\"]\n",
    "    # print(\"時間：\",time[\"dataTime\"], \"溫度（攝氏）：\",time[\"elementValue\"][\"value\"])"
   ]
  }
 ],
 "metadata": {
  "kernelspec": {
   "display_name": "Python 3",
   "language": "python",
   "name": "python3"
  },
  "language_info": {
   "codemirror_mode": {
    "name": "ipython",
    "version": 3
   },
   "file_extension": ".py",
   "mimetype": "text/x-python",
   "name": "python",
   "nbconvert_exporter": "python",
   "pygments_lexer": "ipython3",
   "version": "3.7.9-final"
  }
 },
 "nbformat": 4,
 "nbformat_minor": 2
}