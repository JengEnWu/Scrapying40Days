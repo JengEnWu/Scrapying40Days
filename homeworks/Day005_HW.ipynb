{
 "cells": [
  {
   "cell_type": "markdown",
   "metadata": {},
   "source": [
    "# API 資料串接 - 以 Dcard API 實作範例\n",
    "\n",
    "* 了解 Dcard API 使用方式與回傳內容\n",
    "* 撰寫程式存取 API 且解析 JSON 格式資料\n"
   ]
  },
  {
   "cell_type": "markdown",
   "metadata": {},
   "source": [
    "## 作業目標\n",
    "\n",
    "* 請利用 API: https://www.dcard.tw/_api/forums/pet/posts?popular=true 回答下列問題：\n",
    "\n",
    "1. 這個 API 一次會回傳幾筆資料？每一筆資料包含哪些欄位？\n",
    "2. 取出每一筆資料的「標題」、「貼文時間」、「留言人數」、「按讚人數」\n",
    "3. 計算熱門/非熱門文章的「平均留言人數」與「平均按讚人數」"
   ]
  },
  {
   "cell_type": "code",
   "execution_count": null,
   "metadata": {},
   "outputs": [],
   "source": [
    "import requests\n",
    "r = requests.get('https://www.dcard.tw/_api/forums/pet/posts?popular=true')\n",
    "response = r.text\n",
    "response"
   ]
  },
  {
   "cell_type": "code",
   "execution_count": 6,
   "metadata": {},
   "outputs": [
    {
     "output_type": "stream",
     "name": "stdout",
     "text": [
      "貓咪身上的蟲蟲\n給毛小孩用電暖器要超級小心😱！！\n其實我的貓不是貓，是狐獴！\n米克斯的變化有多大\n我不養天竺鼠，我買羊毛氈\n貓咪肚子大\n剛出生的小動物都有呆毛？！\n上課快遲到的高中生\n會看門的貓\n貓貓親親\n有人跟我讀同一間幼稚園嗎？\n求解🆘⋯⋯\n天竺鼠很可愛但很不好照顧！\n紙箱的魔力📦\n快來蓋起虎斑孩子大樓！\n早安，鬧鐘！\n天氣冷冷，烤貓要有ʕ •́؈•̀ ₎\n第一次養狗就養到天使狗是什麼樣的體驗？\n忍術—黑貓隱身術\n根本是短毛哈士奇🥲\n#曬貓 來蓋山竹大樓🐈\n可以請大家幫幫忙嗎？\n想問各位貓奴\n兔子打哈欠\n越來越人性化了\n烏來流浪貓\n亂穿襪子的貓🐱\n我會放電\n老家的野貓 超可愛\n烏龜的殼怪怪的\n30\n"
     ]
    }
   ],
   "source": [
    "import json\n",
    "data = json.loads(response)\n",
    "\n",
    "num = 0\n",
    "for d in data:\n",
    "    print(d['title'])\n",
    "    num += 1\n",
    "print(num) "
   ]
  },
  {
   "cell_type": "code",
   "execution_count": 17,
   "metadata": {},
   "outputs": [
    {
     "output_type": "stream",
     "name": "stdout",
     "text": [
      "總共有30筆資料\n\n包含的欄位有:\nid\ntitle\nexcerpt\nanonymousSchool\nanonymousDepartment\npinned\nforumId\nreplyId\ncreatedAt\nupdatedAt\ncommentCount\nlikeCount\nwithNickname\ntags\ntopics\nmeta\nforumName\nforumAlias\nnsfw\ngender\nschool\nreplyTitle\nmediaMeta\nreactions\nhidden\ncustomStyle\nisSuspiciousAccount\nisModerator\nlayout\nspoilerAlert\nwithImages\nwithVideos\nmedia\nreportReasonText\nexcerptComments\npostAvatar\nverifiedBadge\n"
     ]
    }
   ],
   "source": [
    "# 1. 這個 API 一次會回傳幾筆資料？每一筆資料包含哪些欄位？\n",
    "\n",
    "'''\n",
    "Your Code\n",
    "'''\n",
    "import json\n",
    "data = json.loads(response)\n",
    "n = len(data)\n",
    "print(f\"總共有{n}筆資料\\n\")\n",
    "\n",
    "col = []\n",
    "print(\"包含的欄位有:\")\n",
    "for key in data[0].keys():\n",
    "    print(key)\n"
   ]
  },
  {
   "cell_type": "code",
   "execution_count": 23,
   "metadata": {},
   "outputs": [
    {
     "output_type": "stream",
     "name": "stdout",
     "text": [
      "標題：貓咪身上的蟲蟲\n貼文時間：2021-01-19T02:53:24.593Z\n留言人數：40\n按讚人數：411\n\n標題：給毛小孩用電暖器要超級小心😱！！\n貼文時間：2021-01-19T07:29:49.109Z\n留言人數：23\n按讚人數：381\n\n標題：其實我的貓不是貓，是狐獴！\n貼文時間：2021-01-19T16:31:26.625Z\n留言人數：20\n按讚人數：319\n\n標題：米克斯的變化有多大\n貼文時間：2021-01-19T04:08:04.560Z\n留言人數：15\n按讚人數：282\n\n標題：我不養天竺鼠，我買羊毛氈\n貼文時間：2021-01-19T13:02:23.889Z\n留言人數：29\n按讚人數：176\n\n標題：貓咪肚子大\n貼文時間：2021-01-18T20:44:40.131Z\n留言人數：36\n按讚人數：166\n\n標題：剛出生的小動物都有呆毛？！\n貼文時間：2021-01-19T13:11:58.469Z\n留言人數：18\n按讚人數：143\n\n標題：上課快遲到的高中生\n貼文時間：2021-01-19T07:46:38.196Z\n留言人數：4\n按讚人數：97\n\n標題：會看門的貓\n貼文時間：2021-01-19T00:51:10.585Z\n留言人數：4\n按讚人數：72\n\n標題：貓貓親親\n貼文時間：2021-01-19T10:16:53.660Z\n留言人數：15\n按讚人數：53\n\n標題：有人跟我讀同一間幼稚園嗎？\n貼文時間：2021-01-19T14:14:09.661Z\n留言人數：0\n按讚人數：50\n\n標題：求解🆘⋯⋯\n貼文時間：2021-01-18T23:22:22.531Z\n留言人數：18\n按讚人數：46\n\n標題：天竺鼠很可愛但很不好照顧！\n貼文時間：2021-01-19T16:17:02.509Z\n留言人數：6\n按讚人數：41\n\n標題：紙箱的魔力📦\n貼文時間：2021-01-20T04:43:00.729Z\n留言人數：6\n按讚人數：37\n\n標題：快來蓋起虎斑孩子大樓！\n貼文時間：2021-01-19T08:05:54.671Z\n留言人數：21\n按讚人數：37\n\n標題：早安，鬧鐘！\n貼文時間：2021-01-20T04:24:01.193Z\n留言人數：1\n按讚人數：28\n\n標題：天氣冷冷，烤貓要有ʕ •́؈•̀ ₎\n貼文時間：2021-01-19T00:07:54.436Z\n留言人數：4\n按讚人數：27\n\n標題：第一次養狗就養到天使狗是什麼樣的體驗？\n貼文時間：2021-01-20T00:50:05.749Z\n留言人數：8\n按讚人數：25\n\n標題：忍術—黑貓隱身術\n貼文時間：2021-01-19T05:35:04.703Z\n留言人數：3\n按讚人數：24\n\n標題：根本是短毛哈士奇🥲\n貼文時間：2021-01-19T04:30:29.051Z\n留言人數：8\n按讚人數：23\n\n標題：#曬貓 來蓋山竹大樓🐈\n貼文時間：2021-01-19T01:26:44.757Z\n留言人數：14\n按讚人數：23\n\n標題：可以請大家幫幫忙嗎？\n貼文時間：2021-01-19T08:09:00.219Z\n留言人數：0\n按讚人數：20\n\n標題：想問各位貓奴\n貼文時間：2021-01-19T13:39:13.416Z\n留言人數：2\n按讚人數：19\n\n標題：兔子打哈欠\n貼文時間：2021-01-19T05:55:40.491Z\n留言人數：5\n按讚人數：19\n\n標題：越來越人性化了\n貼文時間：2021-01-20T03:57:48.517Z\n留言人數：2\n按讚人數：18\n\n標題：烏來流浪貓\n貼文時間：2021-01-19T11:43:08.891Z\n留言人數：0\n按讚人數：18\n\n標題：亂穿襪子的貓🐱\n貼文時間：2021-01-20T03:52:36.817Z\n留言人數：7\n按讚人數：17\n\n標題：我會放電\n貼文時間：2021-01-19T03:09:40.725Z\n留言人數：1\n按讚人數：17\n\n標題：老家的野貓 超可愛\n貼文時間：2021-01-19T13:21:43.857Z\n留言人數：2\n按讚人數：16\n\n標題：烏龜的殼怪怪的\n貼文時間：2021-01-19T04:33:14.351Z\n留言人數：5\n按讚人數：16\n\n"
     ]
    }
   ],
   "source": [
    "# 2. 取出每一筆資料的「標題」、「貼文時間」、「留言人數」、「按讚人數」\n",
    "\n",
    "'''\n",
    "Your Code\n",
    "'''\n",
    "for article in data:\n",
    "    title, time, comment, like = article[\"title\"],article[\"createdAt\"],article[\"commentCount\"],article[\"likeCount\"]\n",
    "    print(f\"標題：{title}\")\n",
    "    print(f\"貼文時間：{time}\")\n",
    "    print(f\"留言人數：{comment}\")\n",
    "    print(f\"按讚人數：{like}\\n\")"
   ]
  },
  {
   "cell_type": "code",
   "execution_count": 25,
   "metadata": {},
   "outputs": [
    {
     "output_type": "stream",
     "name": "stdout",
     "text": [
      "熱門文章：\n平均留言人數：10.83\n平均按讚人數：90.27\n\n非熱門文章：\n平均留言人數：3.13\n平均按讚人數：23.67\n\n"
     ]
    }
   ],
   "source": [
    "# 3. 計算熱門/非熱門文章的「平均留言人數」與「平均按讚人數」\n",
    "\n",
    "'''\n",
    "Your Code\n",
    "'''\n",
    "import requests\n",
    "import json\n",
    "r_pop = requests.get('https://www.dcard.tw/_api/forums/pet/posts?popular=true')\n",
    "response_pop = r_pop.text\n",
    "data_pop = json.loads(response_pop)\n",
    "\n",
    "r_unpop = requests.get('https://www.dcard.tw/_api/forums/pet/posts?popular=false')\n",
    "response_unpop = r_unpop.text\n",
    "data_unpop = json.loads(response_unpop)\n",
    "\n",
    "comment_pop = 0\n",
    "like_pop = 0\n",
    "for article in data_pop:\n",
    "    comment_pop += article[\"commentCount\"]\n",
    "    like_pop += article[\"likeCount\"]\n",
    "\n",
    "comment_unpop = 0\n",
    "like_unpop = 0\n",
    "for article in data_unpop:\n",
    "    comment_unpop += article[\"commentCount\"]\n",
    "    like_unpop += article[\"likeCount\"]\n",
    "\n",
    "print(\"熱門文章：\")\n",
    "print(f\"平均留言人數：{comment_pop/len(data_pop):.2f}\")\n",
    "print(f\"平均按讚人數：{like_pop/len(data_pop):.2f}\\n\")\n",
    "\n",
    "print(\"非熱門文章：\")\n",
    "print(f\"平均留言人數：{comment_unpop/len(data_unpop):.2f}\")\n",
    "print(f\"平均按讚人數：{like_unpop/len(data_unpop):.2f}\\n\")"
   ]
  }
 ],
 "metadata": {
  "kernelspec": {
   "display_name": "Python 3",
   "language": "python",
   "name": "python3"
  },
  "language_info": {
   "codemirror_mode": {
    "name": "ipython",
    "version": 3
   },
   "file_extension": ".py",
   "mimetype": "text/x-python",
   "name": "python",
   "nbconvert_exporter": "python",
   "pygments_lexer": "ipython3",
   "version": "3.7.9-final"
  }
 },
 "nbformat": 4,
 "nbformat_minor": 2
}